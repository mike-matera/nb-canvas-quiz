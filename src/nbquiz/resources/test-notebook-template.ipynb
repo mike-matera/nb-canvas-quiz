{
 "cells": [
  {
   "cell_type": "code",
   "execution_count": 1,
   "metadata": {},
   "outputs": [],
   "source": [
    "%load_ext nbtest"
   ]
  },
  {
   "cell_type": "code",
   "execution_count": null,
   "metadata": {
    "tags": [
     "student"
    ]
   },
   "outputs": [],
   "source": []
  },
  {
   "cell_type": "code",
   "execution_count": null,
   "metadata": {
    "tags": [
     "testbank"
    ]
   },
   "outputs": [],
   "source": [
    "%%testing\n",
    "from nbquiz.testbank import TestBank\n",
    "from pathlib import Path \n",
    "tb = TestBank()"
   ]
  },
  {
   "cell_type": "code",
   "execution_count": null,
   "metadata": {
    "tags": [
     "runner"
    ]
   },
   "outputs": [],
   "source": [
    "%%testing\n",
    "import nbtest \n",
    "nbtest_cases = [\n",
    "    tb.test_for(case) for case in nbtest.tags()\n",
    "    if tb.test_for(case) is not None\n",
    "]\n",
    "assert nbtest_cases, \"\"\"No valid tags found in the solution.\"\"\""
   ]
  },
  {
   "cell_type": "code",
   "execution_count": null,
   "metadata": {
    "tags": [
     "checker"
    ]
   },
   "outputs": [],
   "source": [
    "import nbtest\n",
    "nbtest.assert_ok()"
   ]
  }
 ],
 "metadata": {
  "kernelspec": {
   "display_name": "venv-p4e",
   "language": "python",
   "name": "python3"
  },
  "language_info": {
   "codemirror_mode": {
    "name": "ipython",
    "version": 3
   },
   "file_extension": ".py",
   "mimetype": "text/x-python",
   "name": "python",
   "nbconvert_exporter": "python",
   "pygments_lexer": "ipython3",
   "version": "3.12.3"
  }
 },
 "nbformat": 4,
 "nbformat_minor": 2
}
