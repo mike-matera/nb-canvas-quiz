{
 "cells": [
  {
   "cell_type": "code",
   "execution_count": null,
   "metadata": {},
   "outputs": [],
   "source": [
    "%load_ext nbtest\n",
    "from jinja2 import DictLoader, Environment \n",
    "from nbtest.templ import templ\n",
    "\n",
    "loader = DictLoader({\n",
    "    \"assertion.html\": \"{{ error }}\",\n",
    "    \"missing.html\": \"This attribute is missing: {{ missing }}\",\n",
    "    \"wait.html\": \"Please wait. Beep. Boop.\",\n",
    "    \"result.html\": \"\"\"{% for item in result.failures + result.errors %}{{ item[1] }}{% endfor %}\n",
    "\"\"\"\n",
    "})\n",
    "templ.env = Environment(loader=loader)"
   ]
  },
  {
   "cell_type": "code",
   "execution_count": null,
   "metadata": {
    "tags": [
     "student"
    ]
   },
   "outputs": [],
   "source": []
  },
  {
   "cell_type": "code",
   "execution_count": null,
   "metadata": {
    "tags": [
     "testbank"
    ]
   },
   "outputs": [],
   "source": [
    "%%testing\n",
    "from nbquiz.testbank import TestBank\n",
    "from pathlib import Path \n",
    "tb = TestBank()"
   ]
  },
  {
   "cell_type": "code",
   "execution_count": null,
   "metadata": {
    "tags": [
     "runner"
    ]
   },
   "outputs": [],
   "source": [
    "%%testing\n",
    "import nbtest \n",
    "nbtest_cases = [\n",
    "    tb.test_for(case) for case in nbtest.tags()\n",
    "    if tb.test_for(case) is not None\n",
    "]\n",
    "assert nbtest_cases, \"\"\"No question tag found. Did you add the tag from the question?\"\"\""
   ]
  },
  {
   "cell_type": "code",
   "execution_count": null,
   "metadata": {
    "tags": [
     "checker"
    ]
   },
   "outputs": [],
   "source": [
    "import nbtest\n",
    "nbtest.assert_ok()"
   ]
  }
 ],
 "metadata": {
  "kernelspec": {
   "display_name": "venv-p4e",
   "language": "python",
   "name": "python3"
  },
  "language_info": {
   "codemirror_mode": {
    "name": "ipython",
    "version": 3
   },
   "file_extension": ".py",
   "mimetype": "text/x-python",
   "name": "python",
   "nbconvert_exporter": "python",
   "pygments_lexer": "ipython3",
   "version": "3.10.12"
  }
 },
 "nbformat": 4,
 "nbformat_minor": 2
}
