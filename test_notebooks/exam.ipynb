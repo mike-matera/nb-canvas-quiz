{
 "cells": [
  {
   "cell_type": "code",
   "execution_count": 1,
   "metadata": {},
   "outputs": [],
   "source": [
    "%load_ext nbtest\n",
    "import nbquiz"
   ]
  },
  {
   "cell_type": "markdown",
   "metadata": {
    "vscode": {
     "languageId": "plaintext"
    }
   },
   "source": [
    "# Example Exam\n",
    "\n",
    "Here's an example of an exam. "
   ]
  },
  {
   "cell_type": "markdown",
   "metadata": {},
   "source": [
    "## Question 1:\n",
    "\n",
    "See Canvas for the question text."
   ]
  },
  {
   "cell_type": "code",
   "execution_count": 5,
   "metadata": {},
   "outputs": [],
   "source": [
    "\"\"\"\n",
    "Put the code here: @TriangleMaxArea1\n",
    "@answer1 \n",
    "\"\"\"\n",
    "\n",
    "def triangle_limit(base, height):\n",
    "    \"\"\"This is my solution.\"\"\"\n",
    "    return (base * height) / 2 >= 10"
   ]
  },
  {
   "cell_type": "code",
   "execution_count": 7,
   "metadata": {},
   "outputs": [
    {
     "data": {
      "text/html": [
       "<div style=\"font-size: large; font-weight: bold; margin-bottom: 1em; margin-top: 0.5em\">\n",
       "    \n",
       "        ✅ All tests passed.\n",
       "        \n",
       "</div>\n",
       "<div>\n",
       "    \n",
       "</div>"
      ],
      "text/plain": [
       "<IPython.core.display.HTML object>"
      ]
     },
     "execution_count": 7,
     "metadata": {},
     "output_type": "execute_result"
    }
   ],
   "source": [
    "%%testing @answer1 \n",
    "import nbquiz.runtime.client\n",
    "nbtest_cases = [nbquiz.runtime.client.proxy_test(answer1)]"
   ]
  }
 ],
 "metadata": {
  "kernelspec": {
   "display_name": "venv-p4e",
   "language": "python",
   "name": "python3"
  },
  "language_info": {
   "codemirror_mode": {
    "name": "ipython",
    "version": 3
   },
   "file_extension": ".py",
   "mimetype": "text/x-python",
   "name": "python",
   "nbconvert_exporter": "python",
   "pygments_lexer": "ipython3",
   "version": "3.12.3"
  }
 },
 "nbformat": 4,
 "nbformat_minor": 2
}
