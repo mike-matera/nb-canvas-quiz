{
 "cells": [
  {
   "cell_type": "code",
   "execution_count": 1,
   "metadata": {},
   "outputs": [],
   "source": [
    "%load_ext nbtest\n",
    "import nbquiz"
   ]
  },
  {
   "cell_type": "markdown",
   "metadata": {
    "vscode": {
     "languageId": "plaintext"
    }
   },
   "source": [
    "# Example Exam\n",
    "\n",
    "Here's an example of an exam. "
   ]
  },
  {
   "cell_type": "markdown",
   "metadata": {},
   "source": [
    "## Question 1:\n",
    "\n",
    "See Canvas for the question text."
   ]
  },
  {
   "cell_type": "code",
   "execution_count": 2,
   "metadata": {},
   "outputs": [],
   "source": [
    "\"\"\"\n",
    "@answer1 \n",
    "Put the code here: @TriangleMaxArea1\n",
    "\"\"\"\n",
    "\n",
    "def triangle_limit(base, height):\n",
    "    \"\"\"This is my solution.\"\"\"\n",
    "    return (base * height) / 0 >= 10"
   ]
  },
  {
   "cell_type": "code",
   "execution_count": 3,
   "metadata": {},
   "outputs": [
    {
     "name": "stderr",
     "output_type": "stream",
     "text": [
      "/home/maximus/p4e/venv-p4e/lib/python3.12/site-packages/google/protobuf/runtime_version.py:112: UserWarning: Protobuf gencode version 5.27.2 is older than the runtime version 5.28.2 at nbquiz/runtime/checker.proto. Please avoid checked-in Protobuf gencode that can be obsolete.\n",
      "  warnings.warn(\n"
     ]
    },
    {
     "data": {
      "text/html": [
       "<div style=\"font-size: large; font-weight: bold; margin-bottom: 1em; margin-top: 0.5em\">\n",
       "    \n",
       "        ⚠️ Attention needed.\n",
       "        \n",
       "</div>\n",
       "<div>\n",
       "    \n",
       "        <div style=\"width: 75%; min-width: 500px; max-width: 800px; padding-left: 50px; padding-bottom: 2rem\">\n",
       "            <div style=\"clear: both;\">\n",
       "                <div style=\"float: left; padding: 0.25em;\">\n",
       "                    \n",
       "                        <span style=\"font-size: x-large; padding: 0.25em; color: red; font-weight: bold;\">❌</span>\n",
       "                    \n",
       "                    <span style=\"font-family: monospace;\">&lt;div style=&#34;font-size: large; font-weight: bold; margin-bottom: 1em; margin-top: 0.5em&#34;&gt;\n",
       "    \n",
       "        ⚠️ Attention needed.\n",
       "        \n",
       "&lt;/div&gt;\n",
       "&lt;div&gt;\n",
       "    \n",
       "        &lt;div style=&#34;width: 75%; min-width: 500px; max-width: 800px; padding-left: 50px; padding-bottom: 2rem&#34;&gt;\n",
       "            &lt;div style=&#34;clear: both;&#34;&gt;\n",
       "                &lt;div style=&#34;float: left; padding: 0.25em;&#34;&gt;\n",
       "                    \n",
       "                        &lt;span style=&#34;font-size: x-large; padding: 0.25em; color: red; font-weight: bold;&#34;&gt;❌&lt;/span&gt;\n",
       "                    \n",
       "                    &lt;span style=&#34;font-family: monospace;&#34;&gt;ZeroDivisionError: division by zero&lt;/span&gt;\n",
       "                &lt;/div&gt;    \n",
       "            &lt;/div&gt;\n",
       "            &lt;div style=&#34;clear: both;&#34;&gt;\n",
       "                &lt;div style=&#34;float: left; vertical-align: middle; padding-top: 0.25em; padding-bottom: 1em;&#34;&gt;The function &lt;span style=&#34;font-family: monospace&#34;&gt;__main__.TriangleMaxArea1.test_the_func()&lt;/span&gt; reported an error.&lt;/div&gt;\n",
       "            &lt;/div&gt;\n",
       "        &lt;/div&gt;\n",
       "    \n",
       "&lt;/div&gt;\n",
       "</span>\n",
       "                </div>    \n",
       "            </div>\n",
       "            <div style=\"clear: both;\">\n",
       "                <div style=\"float: left; vertical-align: middle; padding-top: 0.25em; padding-bottom: 1em;\">The function <span style=\"font-family: monospace\">builtins.TestProxy.test_server()</span> reported an error.</div>\n",
       "            </div>\n",
       "        </div>\n",
       "    \n",
       "</div>"
      ],
      "text/plain": [
       "<IPython.core.display.HTML object>"
      ]
     },
     "execution_count": 3,
     "metadata": {},
     "output_type": "execute_result"
    }
   ],
   "source": [
    "%%testing @answer1 \n",
    "\n",
    "import unittest\n",
    "import nbquiz.runtime.client\n",
    "from IPython.display import HTML \n",
    "\n",
    "class TestProxy(unittest.TestCase):\n",
    "    def test_server(self):\n",
    "\n",
    "        for answertag in answer1.tags - {\"@answer1\"}:\n",
    "            pass\n",
    "\n",
    "        status, response = nbquiz.runtime.client.check(answertag, answer1.source)\n",
    "        if status != 0:\n",
    "            self.fail(response)\n"
   ]
  }
 ],
 "metadata": {
  "kernelspec": {
   "display_name": "venv-p4e",
   "language": "python",
   "name": "python3"
  },
  "language_info": {
   "codemirror_mode": {
    "name": "ipython",
    "version": 3
   },
   "file_extension": ".py",
   "mimetype": "text/x-python",
   "name": "python",
   "nbconvert_exporter": "python",
   "pygments_lexer": "ipython3",
   "version": "3.12.3"
  }
 },
 "nbformat": 4,
 "nbformat_minor": 2
}
