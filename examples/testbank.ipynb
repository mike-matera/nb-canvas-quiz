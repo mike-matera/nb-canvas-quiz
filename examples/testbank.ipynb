{
 "cells": [
  {
   "cell_type": "code",
   "execution_count": null,
   "metadata": {},
   "outputs": [],
   "source": [
    "%load_ext nb_unittest"
   ]
  },
  {
   "cell_type": "markdown",
   "metadata": {},
   "source": [
    "# Test Bank\n",
    "\n",
    "This is an example test bank."
   ]
  },
  {
   "cell_type": "code",
   "execution_count": null,
   "metadata": {
    "tags": [
     "question"
    ]
   },
   "outputs": [],
   "source": [
    "## Code shared by the test bank can go here.\n",
    "\n",
    "def shared():\n",
    "    pass"
   ]
  },
  {
   "cell_type": "markdown",
   "metadata": {},
   "source": [
    "## The Simplest Question\n",
    "\n",
    "Questions are specialized Python classes that include the question text, some information about what kind of solution is expected and test cases. To enable maximum reusability the variable `self.solution_cell` will be defined by the framework code. In the simplest form, questions can expect:\n",
    "\n",
    "1. The solution will be marked with a tag that has the same name as the test class (e.g. `ArgumentReverser`) \n",
    "2. `self.solution_cell` will contain the `TagCacheEntry` with the solution cell. \n",
    "\n",
    "Here is a very simple test question:"
   ]
  },
  {
   "cell_type": "code",
   "execution_count": null,
   "metadata": {
    "tags": [
     "question"
    ]
   },
   "outputs": [],
   "source": [
    "from nbquiz.question import TestQuestion\n",
    "\n",
    "class SimpleArgReverse(TestQuestion):\n",
    "    \"\"\"\n",
    "    Write a function called `arg_reverser` that takes three arguments and returns\n",
    "    them in reverse order.\n",
    "    \"\"\"\n",
    "\n",
    "    def test_1_arg_reverser(self):\n",
    "        \"\"\"Testing arg_reverser()\"\"\"\n",
    "\n",
    "        assert \"arg_reverser\" in self.solution_cell.ns, \"\"\"I can't find your solution.\"\"\"\n",
    "        self.assertEqual(self.solution_cell.ns[\"arg_reverser\"](1, 2, 3), (3, 2, 1))\n",
    "        self.assertEqual(\n",
    "            self.solution_cell.ns[\"arg_reverser\"](\"one\", \"two\", \"three\"), (\"three\", \"two\", \"one\")\n",
    "        )"
   ]
  },
  {
   "cell_type": "markdown",
   "metadata": {},
   "source": [
    "Generate a preview for copy/paste to an LMS"
   ]
  },
  {
   "cell_type": "code",
   "execution_count": null,
   "metadata": {},
   "outputs": [],
   "source": [
    "from IPython.display import Markdown\n",
    "Markdown(SimpleArgReverse.question())"
   ]
  },
  {
   "cell_type": "markdown",
   "metadata": {},
   "source": [
    "### Question Self Tests\n",
    "\n",
    "To test the question you can check it against the correct and incorrect solutions:"
   ]
  },
  {
   "cell_type": "code",
   "execution_count": null,
   "metadata": {},
   "outputs": [],
   "source": [
    "\"\"\"@SimpleArgReverse\"\"\"\n",
    "\n",
    "def arg_reverser(arg1, arg2, arg3):\n",
    "    \"\"\"Reverse my arguments.\"\"\"\n",
    "    return arg3, arg2, arg1"
   ]
  },
  {
   "cell_type": "code",
   "execution_count": null,
   "metadata": {},
   "outputs": [],
   "source": [
    "%%testing SimpleArgReverse\n",
    "nbtest_cases = [SimpleArgReverse]"
   ]
  },
  {
   "cell_type": "code",
   "execution_count": null,
   "metadata": {},
   "outputs": [],
   "source": [
    "import nb_unittest\n",
    "nb_unittest.assert_ok()"
   ]
  },
  {
   "cell_type": "markdown",
   "metadata": {},
   "source": [
    "What about tests versus invalid solutions? They should be able to be in the notebook:"
   ]
  },
  {
   "cell_type": "code",
   "execution_count": null,
   "metadata": {},
   "outputs": [],
   "source": [
    "\"\"\"@SimpleArgReverse\"\"\"\n",
    "\n",
    "def arg_reverser(a, b):\n",
    "    \"\"\"Wrong number of arguments.\"\"\"\n",
    "    return b, a"
   ]
  },
  {
   "cell_type": "code",
   "execution_count": null,
   "metadata": {},
   "outputs": [],
   "source": [
    "%%testing SimpleArgReverse\n",
    "nbtest_cases = [SimpleArgReverse]"
   ]
  },
  {
   "cell_type": "code",
   "execution_count": null,
   "metadata": {},
   "outputs": [],
   "source": [
    "nb_unittest.assert_error()"
   ]
  },
  {
   "cell_type": "markdown",
   "metadata": {},
   "source": [
    "Incorrect return values are reported:"
   ]
  },
  {
   "cell_type": "code",
   "execution_count": null,
   "metadata": {},
   "outputs": [],
   "source": [
    "\"\"\"@SimpleArgReverse\"\"\"\n",
    "\n",
    "def arg_reverser(a, b, c):\n",
    "    \"\"\"Bad return value\"\"\"\n",
    "    return b, a, c"
   ]
  },
  {
   "cell_type": "code",
   "execution_count": null,
   "metadata": {},
   "outputs": [],
   "source": [
    "%%testing SimpleArgReverse\n",
    "nbtest_cases = [SimpleArgReverse]"
   ]
  },
  {
   "cell_type": "code",
   "execution_count": null,
   "metadata": {},
   "outputs": [],
   "source": [
    "nb_unittest.assert_error()"
   ]
  },
  {
   "cell_type": "markdown",
   "metadata": {},
   "source": [
    "## Using FunctionQuestion \n",
    "\n",
    "The `FunctionQuestion` class supports a number of ways to validate a function question. Function questions can also become cell questions. See below. A function question:\n",
    "\n",
    "1. Validates that the function exists and is a function. \n",
    "1. Ensures that the function has a docstring. \n",
    "1. Validates the number, order and names of arguments. \n",
    "1. Validates the return type by wrapping the student function. \n",
    "\n",
    "A simple function question is shown below:"
   ]
  },
  {
   "cell_type": "code",
   "execution_count": null,
   "metadata": {
    "tags": [
     "question"
    ]
   },
   "outputs": [],
   "source": [
    "import ast \n",
    "from nbquiz.question import FunctionQuestion\n",
    "\n",
    "class TriangleMaxArea1(FunctionQuestion):\n",
    "    \"\"\"\n",
    "    Write a function called `triangle_limit` that takes two arguments, `base` and `height`. \n",
    "    Calculate the area of a triangle with `base` and `height`. If the area of the triangle \n",
    "    is greater than or equal to `limit`, return `True` otherwise return `False`. \n",
    "    \"\"\"\n",
    "\n",
    "    tokens_required = [ast.GtE]\n",
    "    tokens_forbidden = [ast.If]\n",
    "\n",
    "    # self.solution will be this attribute\n",
    "    name = \"triangle_limit\" \n",
    "\n",
    "    # Validate self.solution based on the type hints style attributes. \n",
    "    # When a FunctionValidator is used `self.solution` will be the function.\n",
    "    annotations = {\"base\": float, \"height\": float, \"return\": bool}\n",
    "\n",
    "    def test_the_func(self):\n",
    "        self.assertEqual(\n",
    "            self.solution(10, 10), True, \"\"\"Should be True.\"\"\"\n",
    "        )\n",
    "        self.assertEqual(\n",
    "            self.solution(10,1), False, \"\"\"Should be True.\"\"\"\n",
    "        )\n",
    "        self.assertEqual(\n",
    "            self.solution(10,0.1), False, \"\"\"Should be False.\"\"\"\n",
    "        )"
   ]
  },
  {
   "cell_type": "code",
   "execution_count": null,
   "metadata": {},
   "outputs": [],
   "source": [
    "print(TriangleMaxArea1.question())"
   ]
  },
  {
   "cell_type": "code",
   "execution_count": null,
   "metadata": {},
   "outputs": [],
   "source": [
    "\"\"\"@TriangleMaxArea1\"\"\"\n",
    "def triangle_limit(base, height):\n",
    "    \"\"\"This is my solution.\"\"\"\n",
    "    return (base * height) / 2 >= 10"
   ]
  },
  {
   "cell_type": "code",
   "execution_count": null,
   "metadata": {},
   "outputs": [],
   "source": [
    "%%testing TriangleMaxArea1\n",
    "nbtest_cases = [TriangleMaxArea1]"
   ]
  },
  {
   "cell_type": "markdown",
   "metadata": {},
   "source": [
    "A number of error conditions are checked for:"
   ]
  },
  {
   "cell_type": "code",
   "execution_count": null,
   "metadata": {},
   "outputs": [],
   "source": [
    "\"\"\"@TriangleMaxArea1\"\"\"\n",
    "\n",
    "# Wrong or misspelled name. \n",
    "def triangle_limit_blah(base, height):\n",
    "    \"\"\"This is my solution.\"\"\"\n",
    "    return (base * height) / 2 >= 10"
   ]
  },
  {
   "cell_type": "code",
   "execution_count": null,
   "metadata": {},
   "outputs": [],
   "source": [
    "%%testing TriangleMaxArea1\n",
    "nbtest_cases = [TriangleMaxArea1]"
   ]
  },
  {
   "cell_type": "code",
   "execution_count": null,
   "metadata": {},
   "outputs": [],
   "source": [
    "\"\"\"@TriangleMaxArea1\"\"\"\n",
    "\n",
    "# Parameters are incorrect or are in the wrong order:\n",
    "def triangle_limit(height, base):\n",
    "    \"\"\"This is my solution.\"\"\"\n",
    "    return (base * height) / 2 >= 10"
   ]
  },
  {
   "cell_type": "code",
   "execution_count": null,
   "metadata": {},
   "outputs": [],
   "source": [
    "%%testing TriangleMaxArea1\n",
    "nbtest_cases = [TriangleMaxArea1]"
   ]
  },
  {
   "cell_type": "code",
   "execution_count": null,
   "metadata": {},
   "outputs": [],
   "source": [
    "\"\"\"@TriangleMaxArea1\"\"\"\n",
    "\n",
    "# No docstring\n",
    "def triangle_limit(base, height):\n",
    "    return (base * height) / 2 >= 10"
   ]
  },
  {
   "cell_type": "code",
   "execution_count": null,
   "metadata": {},
   "outputs": [],
   "source": [
    "%%testing TriangleMaxArea1\n",
    "nbtest_cases = [TriangleMaxArea1]"
   ]
  },
  {
   "cell_type": "code",
   "execution_count": null,
   "metadata": {},
   "outputs": [],
   "source": [
    "\"\"\"@TriangleMaxArea1\"\"\"\n",
    "\n",
    "# Wrong return type.\n",
    "def triangle_limit(base, height):\n",
    "    \"\"\"This is my solution.\"\"\"\n",
    "    return (base >= height) / 2 "
   ]
  },
  {
   "cell_type": "code",
   "execution_count": null,
   "metadata": {},
   "outputs": [],
   "source": [
    "%%testing TriangleMaxArea1\n",
    "nbtest_cases = [TriangleMaxArea1]"
   ]
  },
  {
   "cell_type": "code",
   "execution_count": null,
   "metadata": {},
   "outputs": [],
   "source": [
    "\"\"\"@TriangleMaxArea1\"\"\"\n",
    "\n",
    "# Missing the ast.GtE token.\n",
    "def triangle_limit(base, height):\n",
    "    \"\"\"This is my solution.\"\"\"\n",
    "    return (base * height) / 2 <= 10"
   ]
  },
  {
   "cell_type": "code",
   "execution_count": null,
   "metadata": {},
   "outputs": [],
   "source": [
    "%%testing TriangleMaxArea1\n",
    "nbtest_cases = [TriangleMaxArea1]"
   ]
  },
  {
   "cell_type": "code",
   "execution_count": null,
   "metadata": {},
   "outputs": [],
   "source": [
    "\"\"\"@TriangleMaxArea1\"\"\"\n",
    "\n",
    "# Uses the ast.If token\n",
    "def triangle_limit(base, height):\n",
    "    \"\"\"This is my solution.\"\"\"\n",
    "    if (base * height) / 2 >= 10:\n",
    "        return True\n",
    "    else: \n",
    "        return False"
   ]
  },
  {
   "cell_type": "code",
   "execution_count": null,
   "metadata": {},
   "outputs": [],
   "source": [
    "%%testing TriangleMaxArea1\n",
    "nbtest_cases = [TriangleMaxArea1]"
   ]
  },
  {
   "cell_type": "markdown",
   "metadata": {},
   "source": [
    "## Parameterized Function Questions\n",
    "\n",
    "Questions can be parameterized so that variants of the question can be created automatically. The previous version of `TriangleMaxArea` hard coded the function name, arguments and the constant `10`. This version parameterizes them using class variables. Care should be taken to ensure test cases work for all parameters. \n",
    "\n",
    "The special form of `{variable}` in the `annotations` dictionary and the docstring causes the validator to look up the function name in the class variable called `variable`. \n",
    "\n",
    "> NOTE: These are **not** f-strings. The `{{variable}}` is a literal."
   ]
  },
  {
   "cell_type": "code",
   "execution_count": null,
   "metadata": {
    "tags": [
     "question"
    ]
   },
   "outputs": [],
   "source": [
    "import ast \n",
    "from nbquiz.question import FunctionQuestion, Parameter\n",
    "\n",
    "class TriangleMaxArea2(FunctionQuestion):\n",
    "    \"\"\"\n",
    "    Write a function called {{name}} that takes two arguments, {{base}} and\n",
    "    {{height}}. Calculate the area of a triangle with {{base}} and {{height}}.\n",
    "    If the area of the triangle is greater than or equal to {{limit}}, return\n",
    "    `True` otherwise return `False`. \n",
    "\n",
    "    Example:\n",
    "\n",
    "    ```python\n",
    "    >>> {{name|plain}}(0, 0)\n",
    "    0\n",
    "    ```\n",
    "    \"\"\"\n",
    "\n",
    "    tokens_required = [ast.GtE]\n",
    "    tokens_forbidden = [ast.If]\n",
    "\n",
    "    # self.solution will be this attribute\n",
    "    name: str = \"triangle_limit\" \n",
    "    base: str = \"base\"\n",
    "    height: str = \"height\"\n",
    "    limit: int = 10\n",
    "\n",
    "    # Validate self.solution based on the type hints style attributes. \n",
    "    # When a FunctionValidator is used `self.solution` will be the function.\n",
    "    annotations = {\"{base}\": float, \"{height}\": float, \"return\": bool}\n",
    "\n",
    "    def test_the_func(self):\n",
    "        self.assertEqual(\n",
    "            self.solution(self.limit, self.limit), True, f\"\"\"Should {self.limit} x 2 should be True.\"\"\"\n",
    "        )\n",
    "        self.assertEqual(\n",
    "            self.solution(self.limit, 1), False, f\"\"\"Should {self.limit}, 1 be True.\"\"\"\n",
    "        )\n",
    "        self.assertEqual(\n",
    "            self.solution(self.limit/10, self.limit/10), False, f\"\"\"Should {self.limit}, 1/10 be False.\"\"\"\n",
    "        )"
   ]
  },
  {
   "cell_type": "code",
   "execution_count": null,
   "metadata": {},
   "outputs": [],
   "source": [
    "Markdown(TriangleMaxArea2.question())"
   ]
  },
  {
   "cell_type": "code",
   "execution_count": null,
   "metadata": {},
   "outputs": [],
   "source": [
    "\"\"\"@TriangleMaxArea2\"\"\"\n",
    "def triangle_limit(base, height):\n",
    "    \"\"\"This is my solution.\"\"\"\n",
    "    return (base * height) / 2 >= 10"
   ]
  },
  {
   "cell_type": "code",
   "execution_count": null,
   "metadata": {},
   "outputs": [],
   "source": [
    "%%testing TriangleMaxArea2\n",
    "nbtest_cases = [TriangleMaxArea2]"
   ]
  },
  {
   "cell_type": "markdown",
   "metadata": {},
   "source": [
    "### Creating a Variant \n",
    "\n",
    "When a question class is parameterized you can use the `variant` class function to create variants of the question:\n"
   ]
  },
  {
   "cell_type": "code",
   "execution_count": null,
   "metadata": {
    "tags": [
     "question"
    ]
   },
   "outputs": [],
   "source": [
    "variant = TriangleMaxArea2.variant(\n",
    "    name = \"triangle_max_100\",\n",
    "    base = \"b\",\n",
    "    height = \"h\",\n",
    "    limit = 100, \n",
    ")"
   ]
  },
  {
   "cell_type": "code",
   "execution_count": null,
   "metadata": {},
   "outputs": [],
   "source": [
    "Markdown(variant.question())"
   ]
  },
  {
   "cell_type": "markdown",
   "metadata": {},
   "source": [
    "Variants should normally be used inside of a `QuestionGroup` (see below) but can be referenced by an automatically assigned a mangled class name that follows the formula:\n",
    "\n",
    "```\n",
    "BaseClassName_param1:value1_param2:value2\n",
    "```"
   ]
  },
  {
   "cell_type": "code",
   "execution_count": null,
   "metadata": {},
   "outputs": [],
   "source": [
    "variant.__name__"
   ]
  },
  {
   "cell_type": "code",
   "execution_count": null,
   "metadata": {},
   "outputs": [],
   "source": [
    "\"\"\"@TriangleMaxArea2_name:triangle_max_100_base:b_height:h_limit:100\"\"\"\n",
    "\n",
    "def triangle_max_100(b, h):\n",
    "    \"\"\"Some question\"\"\"\n",
    "    return (b * h) / 2 >= 100"
   ]
  },
  {
   "cell_type": "code",
   "execution_count": null,
   "metadata": {},
   "outputs": [],
   "source": [
    "%%testing variant\n",
    "nbtest_cases = [variant]"
   ]
  },
  {
   "cell_type": "markdown",
   "metadata": {},
   "source": [
    "## Making Cell Variants\n",
    "\n",
    "A `FunctionQuestion` can easily become a cell-based question for tests that happen before students learn function syntax. The `annotations` dictionary is used to create variables in the cell namespace that work just like function arguments.  "
   ]
  },
  {
   "cell_type": "markdown",
   "metadata": {},
   "source": [
    "### A Cell Variant \n",
    "\n",
    "A question that inherits from a FunctionQuestion and a CellQuestion can be used to test a cell using the `run()` method of a `CellCacheEntry`.  "
   ]
  },
  {
   "cell_type": "code",
   "execution_count": null,
   "metadata": {
    "tags": [
     "question"
    ]
   },
   "outputs": [],
   "source": [
    "from nbquiz.question import CellQuestion\n",
    "\n",
    "class TriangleMaxArea1Cell(TriangleMaxArea1, CellQuestion):\n",
    "    \"\"\"\n",
    "    Make a cell that creates two variables, `base` and `height`. Calculate the area of a triangle with `base` and `height`. \n",
    "    If the area of the triangle is greater than or equal to 10, the cell should result in `True`, `False` otherwise. \n",
    "    \"\"\""
   ]
  },
  {
   "cell_type": "code",
   "execution_count": null,
   "metadata": {},
   "outputs": [],
   "source": [
    "Markdown(TriangleMaxArea1Cell.question())"
   ]
  },
  {
   "cell_type": "code",
   "execution_count": null,
   "metadata": {},
   "outputs": [],
   "source": [
    "\"\"\"@TriangleMaxArea1Cell\"\"\"\n",
    "\n",
    "base = 10 \n",
    "height = 100\n",
    "\n",
    "(base * height) / 2 >= 10"
   ]
  },
  {
   "cell_type": "markdown",
   "metadata": {},
   "source": [
    "Parameterized `FunctionTests` are even better: "
   ]
  },
  {
   "cell_type": "code",
   "execution_count": null,
   "metadata": {},
   "outputs": [],
   "source": [
    "%%testing TriangleMaxArea1Cell\n",
    "nbtest_cases = [TriangleMaxArea1Cell]"
   ]
  },
  {
   "cell_type": "code",
   "execution_count": null,
   "metadata": {
    "tags": [
     "question"
    ]
   },
   "outputs": [],
   "source": [
    "from nbquiz.question import CellQuestion\n",
    "\n",
    "class TriangleMaxArea2Cell(TriangleMaxArea2, CellQuestion):\n",
    "    \"\"\"\n",
    "    Make a cell that creates two variables, {{base}} and {{height}}. Calculate\n",
    "    the area of a triangle with {{base}} and {{height}}. If the area of the\n",
    "    triangle is greater than or equal to {{limit}}, the cell should result in\n",
    "    `True`, `False` otherwise. \n",
    "    \"\"\""
   ]
  },
  {
   "cell_type": "code",
   "execution_count": null,
   "metadata": {},
   "outputs": [],
   "source": [
    "Markdown(TriangleMaxArea2Cell.question())"
   ]
  },
  {
   "cell_type": "code",
   "execution_count": null,
   "metadata": {},
   "outputs": [],
   "source": [
    "\"\"\"@TriangleMaxArea2Cell\"\"\"\n",
    "\n",
    "base = 10 \n",
    "height = 100\n",
    "\n",
    "(base * height) / 2 >= 10\n"
   ]
  },
  {
   "cell_type": "code",
   "execution_count": null,
   "metadata": {},
   "outputs": [],
   "source": [
    "%%testing TriangleMaxArea2Cell\n",
    "nbtest_cases = [TriangleMaxArea2Cell]"
   ]
  },
  {
   "cell_type": "markdown",
   "metadata": {},
   "source": [
    "Cell based variants work too:"
   ]
  },
  {
   "cell_type": "code",
   "execution_count": null,
   "metadata": {
    "tags": [
     "question"
    ]
   },
   "outputs": [],
   "source": [
    "variant = TriangleMaxArea2Cell.variant(\n",
    "    base = \"bob\",\n",
    "    height = \"hillary\",\n",
    "    limit = 100,\n",
    "\n",
    ")"
   ]
  },
  {
   "cell_type": "code",
   "execution_count": null,
   "metadata": {},
   "outputs": [],
   "source": [
    "Markdown(variant.question())"
   ]
  },
  {
   "cell_type": "code",
   "execution_count": null,
   "metadata": {},
   "outputs": [],
   "source": [
    "\"\"\"@TriangleMaxArea2Cell_base:bob_height:hillary_limit:100\"\"\"\n",
    "\n",
    "bob = 100 \n",
    "hillary = 100 \n",
    "\n",
    "(bob * hillary) / 2 >= 100 "
   ]
  },
  {
   "cell_type": "code",
   "execution_count": null,
   "metadata": {},
   "outputs": [],
   "source": [
    "%%testing variant\n",
    "nbtest_cases = [variant]"
   ]
  },
  {
   "cell_type": "markdown",
   "metadata": {},
   "source": [
    "## Question Groups \n",
    "\n",
    "When a test bank is exported to Canvas question groups become a question group\n",
    "in the assessment. During the quiz, students receive one or more of the\n",
    "questions in a group at random. Question groups ensure that every student\n",
    "receives a unique test making certain kinds of cheating harder. Question groups\n",
    "are best used to:\n",
    "\n",
    "1. Group question variants that differ only by a constant or name. \n",
    "1. Group questions of a similar difficulty and topic for test randomization. \n",
    "\n",
    "The `QuestionGroup` class is just a wrapper around a `list`, but is special\n",
    "because it's recognized by the framework as belonging to the test bank. "
   ]
  },
  {
   "cell_type": "code",
   "execution_count": null,
   "metadata": {
    "tags": [
     "question"
    ]
   },
   "outputs": [],
   "source": [
    "from nbquiz.question import QuestionGroup\n",
    "\n",
    "TriangleMaxArea2Group = QuestionGroup()\n",
    "for i in range(30,80,5):\n",
    "    TriangleMaxArea2Group.append(TriangleMaxArea2.variant(limit=i))"
   ]
  },
  {
   "cell_type": "markdown",
   "metadata": {},
   "source": [
    "You can use the initializer too:"
   ]
  },
  {
   "cell_type": "code",
   "execution_count": null,
   "metadata": {
    "tags": [
     "question"
    ]
   },
   "outputs": [],
   "source": [
    "TriangleMaxArea2CellGroup = QuestionGroup(\"TriangleMaxArea2CellGroup\", [\n",
    "    TriangleMaxArea2Cell.variant(limit=i) for i in range(30,80,5)\n",
    "])"
   ]
  },
  {
   "cell_type": "markdown",
   "metadata": {},
   "source": [
    "The test bank loader will assign a tag to groups based on their class names. When generating a test you'll use `@TriangleMaxArea2CellGroup` and `@TriangleMaxArea2CellGroup` to refer to these groups. The name of a question group will appear in the test to instructors only."
   ]
  },
  {
   "cell_type": "markdown",
   "metadata": {},
   "source": [
    "## Testing Markdown Extensions \n",
    "\n",
    "Mardown math syntax is largely supported because they seem to render properly without the need for JavaScript or CSS. However, it's awkward to specify LaTeX because the docstring is first passed to `format()`, requiring the doubling of `{` and `}` also Python will eat the `\\` characters unless you make the docstring a `r` string."
   ]
  },
  {
   "cell_type": "code",
   "execution_count": null,
   "metadata": {
    "tags": [
     "question"
    ]
   },
   "outputs": [],
   "source": [
    "class MathQuestion(TestQuestion):\n",
    "    r\"\"\"\n",
    "    Test the math extensions: $y = mx + b$\n",
    "\n",
    "    $$\n",
    "    e = mc^2\n",
    "    $$ \n",
    "\n",
    "    Hence, for $\\alpha \\in (0, 1)$,\n",
    "    \n",
    "    $$\n",
    "    \\mathbb P (\\alpha \\bar{X} \\ge \\mu) \\le \\alpha;\n",
    "    $$\n",
    "\n",
    "    i.e., $[\\alpha \\bar{X}, \\infty)$ is a lower 1-sided $1-\\alpha$ confidence bound for $\\mu$.    \n",
    "\n",
    "    \\begin{align}\n",
    "    a_{11}& =b_{11}&\n",
    "    a_{12}& =b_{12}\\\\\n",
    "    a_{21}& =b_{21}&\n",
    "    a_{22}& =b_{22}+c_{22}\n",
    "    \\end{align}\n",
    "    \"\"\"\n"
   ]
  },
  {
   "cell_type": "code",
   "execution_count": null,
   "metadata": {},
   "outputs": [],
   "source": [
    "Markdown(MathQuestion.question())"
   ]
  }
 ],
 "metadata": {
  "kernelspec": {
   "display_name": ".venv",
   "language": "python",
   "name": "python3"
  },
  "language_info": {
   "codemirror_mode": {
    "name": "ipython",
    "version": 3
   },
   "file_extension": ".py",
   "mimetype": "text/x-python",
   "name": "python",
   "nbconvert_exporter": "python",
   "pygments_lexer": "ipython3",
   "version": "3.12.3"
  }
 },
 "nbformat": 4,
 "nbformat_minor": 2
}
