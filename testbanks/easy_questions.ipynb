{
 "cells": [
  {
   "cell_type": "code",
   "execution_count": 1,
   "metadata": {},
   "outputs": [],
   "source": [
    "%load_ext nbtest"
   ]
  },
  {
   "cell_type": "markdown",
   "metadata": {},
   "source": [
    "# A Test Bank of Easy Questions \n",
    "\n",
    "These questions are there to assess basic coding skills."
   ]
  },
  {
   "cell_type": "markdown",
   "metadata": {},
   "source": [
    "## Circumference "
   ]
  },
  {
   "cell_type": "code",
   "execution_count": 2,
   "metadata": {
    "tags": [
     "question"
    ]
   },
   "outputs": [],
   "source": [
    "from nbquiz.question import FunctionQuestion, CellQuestion, QuestionGroup\n",
    "\n",
    "import random \n",
    "import math \n",
    "\n",
    "class Circumference(FunctionQuestion):\n",
    "    \"\"\"\n",
    "    Write a function called {name} that takes one argument, {radius}. \n",
    "    The function returns the circumference of a circle that has the given {radius}.\n",
    "    \"\"\"\n",
    "\n",
    "    name = \"circumference\"\n",
    "    radius = \"radius\"\n",
    "    annotations = {\"{radius}\": float, \"return\": float}\n",
    "\n",
    "    def test_circumference(self):\n",
    "        \"\"\"Testing random radii\"\"\"\n",
    "        for _ in range(100):\n",
    "            r = random.uniform(0, 100)\n",
    "            self.assertAlmostEqual(self.solution(r), 2 * math.pi * r)\n",
    "\n",
    "class CircumferenceCell(Circumference, CellQuestion):\n",
    "    \"\"\"\n",
    "    In the solution cell create a variable called {radius}. Make the cell result in the circumference \n",
    "    of a circle that has the given {radius}.\n",
    "    \"\"\""
   ]
  },
  {
   "cell_type": "code",
   "execution_count": 3,
   "metadata": {},
   "outputs": [],
   "source": [
    "\"\"\"@Circumference\"\"\"\n",
    "\n",
    "import math \n",
    "\n",
    "def circumference(radius):\n",
    "    \"\"\"test case\"\"\"\n",
    "    return math.pi * 2 * radius"
   ]
  },
  {
   "cell_type": "code",
   "execution_count": 4,
   "metadata": {},
   "outputs": [
    {
     "data": {
      "text/html": [
       "<div style=\"font-size: large; font-weight: bold; margin-bottom: 1em; margin-top: 0.5em\">\n",
       "    \n",
       "        ✅ All tests passed.\n",
       "        \n",
       "</div>\n",
       "<div>\n",
       "    \n",
       "</div>"
      ],
      "text/plain": [
       "<IPython.core.display.HTML object>"
      ]
     },
     "execution_count": 4,
     "metadata": {},
     "output_type": "execute_result"
    }
   ],
   "source": [
    "%%testing Circumference\n",
    "nbtest_cases = [Circumference]"
   ]
  },
  {
   "cell_type": "markdown",
   "metadata": {},
   "source": [
    "## Hypotenuse \n",
    "\n",
    "Simple math, may take a Google search."
   ]
  },
  {
   "cell_type": "code",
   "execution_count": 5,
   "metadata": {
    "tags": [
     "question"
    ]
   },
   "outputs": [],
   "source": [
    "class Hypotenuse(FunctionQuestion):\n",
    "    \"\"\"\n",
    "    Write a function called {name} that takes two arguments, {a} and {b}. \n",
    "    The function returns the hypotenuse of a right triangle that has sides of length {a} and {b}.\n",
    "    \"\"\"\n",
    "\n",
    "    name = \"hypotenuse\"\n",
    "    a = \"a\"\n",
    "    b = \"b\"\n",
    "    annotations = {\"{a}\": float, \"{b}\": float, \"return\": float}\n",
    "    \n",
    "    def test_1(self):\n",
    "        \"\"\"Testing hypotenuse with random numbers...\"\"\"\n",
    "        for _ in range(10):\n",
    "            a = random.uniform(10, 100)\n",
    "            b = random.uniform(10, 100)\n",
    "            self.assertAlmostEqual(self.solution(a, b), math.sqrt(a**2 + b**2))\n",
    "\n",
    "class HypotenuseCell(Hypotenuse, CellQuestion):\n",
    "    \"\"\"\n",
    "    In a cell, create two variables, {a} and {b}. The cell should result in the hypotenuse of a right triangle that has sides of length {a} and {b}.\n",
    "    \"\"\""
   ]
  },
  {
   "cell_type": "code",
   "execution_count": 6,
   "metadata": {},
   "outputs": [],
   "source": [
    "\"\"\"@Hypotenuse\"\"\"\n",
    "import math\n",
    "def hypotenuse(a, b):\n",
    "    \"\"\"Calculate the hypot\"\"\"\n",
    "    return math.sqrt(a**2 + b**2)"
   ]
  },
  {
   "cell_type": "code",
   "execution_count": 7,
   "metadata": {},
   "outputs": [
    {
     "data": {
      "text/html": [
       "<div style=\"font-size: large; font-weight: bold; margin-bottom: 1em; margin-top: 0.5em\">\n",
       "    \n",
       "        ✅ All tests passed.\n",
       "        \n",
       "</div>\n",
       "<div>\n",
       "    \n",
       "</div>"
      ],
      "text/plain": [
       "<IPython.core.display.HTML object>"
      ]
     },
     "execution_count": 7,
     "metadata": {},
     "output_type": "execute_result"
    }
   ],
   "source": [
    "%%testing Hypotenuse\n",
    "nbtest_cases = [Hypotenuse]"
   ]
  },
  {
   "cell_type": "markdown",
   "metadata": {},
   "source": [
    "## Add an Item to a List \n",
    "\n",
    "A simple question that asks students to remember the `insert` function of a list."
   ]
  },
  {
   "cell_type": "code",
   "execution_count": 8,
   "metadata": {
    "tags": [
     "question"
    ]
   },
   "outputs": [],
   "source": [
    "from typing import Any \n",
    "\n",
    "class _AddToList(FunctionQuestion):\n",
    "    \"\"\"\n",
    "    Write a function called {name} that takes two arguments {li}, a list and\n",
    "    {item}, an item to add to the list. The function inserts {item} into element \n",
    "    number {n} in the list. The function modifies {li} and returns `None`.\n",
    "    \"\"\"\n",
    "\n",
    "    name = \"add_to_list\"\n",
    "    item = \"item\"\n",
    "    li = \"li\"\n",
    "    n = 10 \n",
    "\n",
    "    annotations = {\"{li}\": list[Any], \"item\": Any, \"return\": None}\n",
    "\n",
    "    def test_1(self):\n",
    "        \"\"\"Testing some random lists.\"\"\"\n",
    "        l = [ random.randint(0,100) for _ in range(10) ]\n",
    "        item = random.randint(0, 100)\n",
    "        exp = l.copy()\n",
    "        exp.insert(_AddToList.n-1, item)\n",
    "        self.solution(l, item)\n",
    "        self.assertEqual(l, exp)\n",
    "\n",
    "AddToList = QuestionGroup([_AddToList.variant(f\"AddToList{n}\", params={\"n\": n}) for n in range(1,10)])\n",
    "\n"
   ]
  },
  {
   "cell_type": "code",
   "execution_count": 9,
   "metadata": {},
   "outputs": [
    {
     "data": {
      "text/markdown": [
       "\n",
       "\n",
       "Write a function called `add_to_list` that takes two arguments `li`, a list and\n",
       "`item`, an item to add to the list. The function inserts `item` into element \n",
       "number `10` in the list. The function modifies `li` and returns `None`.\n",
       "\n",
       "\n",
       "Add the tag `@_atl-9985` to the docstring in your solution cell.\n"
      ],
      "text/plain": [
       "<IPython.core.display.Markdown object>"
      ]
     },
     "metadata": {},
     "output_type": "display_data"
    }
   ],
   "source": [
    "from IPython.display import Markdown\n",
    "display(Markdown(_AddToList.question()))"
   ]
  },
  {
   "cell_type": "code",
   "execution_count": 10,
   "metadata": {},
   "outputs": [],
   "source": [
    "\"\"\"@_AddToList\"\"\"\n",
    "def add_to_list(li, item):\n",
    "    \"\"\"Add to a list\"\"\"\n",
    "    li.insert(9, item)"
   ]
  },
  {
   "cell_type": "code",
   "execution_count": 11,
   "metadata": {},
   "outputs": [
    {
     "data": {
      "text/html": [
       "<div style=\"font-size: large; font-weight: bold; margin-bottom: 1em; margin-top: 0.5em\">\n",
       "    \n",
       "        ✅ All tests passed.\n",
       "        \n",
       "</div>\n",
       "<div>\n",
       "    \n",
       "</div>"
      ],
      "text/plain": [
       "<IPython.core.display.HTML object>"
      ]
     },
     "execution_count": 11,
     "metadata": {},
     "output_type": "execute_result"
    }
   ],
   "source": [
    "%%testing _AddToList\n",
    "nbtest_cases = [_AddToList]"
   ]
  }
 ],
 "metadata": {
  "kernelspec": {
   "display_name": "venv-p4e",
   "language": "python",
   "name": "python3"
  },
  "language_info": {
   "codemirror_mode": {
    "name": "ipython",
    "version": 3
   },
   "file_extension": ".py",
   "mimetype": "text/x-python",
   "name": "python",
   "nbconvert_exporter": "python",
   "pygments_lexer": "ipython3",
   "version": "3.12.3"
  }
 },
 "nbformat": 4,
 "nbformat_minor": 2
}
