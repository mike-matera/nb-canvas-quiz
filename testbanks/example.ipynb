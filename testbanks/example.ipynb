{
 "cells": [
  {
   "cell_type": "code",
   "execution_count": 1,
   "metadata": {},
   "outputs": [],
   "source": [
    "%load_ext nbtest"
   ]
  },
  {
   "cell_type": "markdown",
   "metadata": {},
   "source": [
    "# Test Bank\n",
    "\n",
    "This is an example test bank."
   ]
  },
  {
   "cell_type": "code",
   "execution_count": 2,
   "metadata": {
    "tags": [
     "question"
    ]
   },
   "outputs": [],
   "source": [
    "## Code shared by the test bank can go here.\n",
    "\n",
    "def fuckery():\n",
    "    pass"
   ]
  },
  {
   "cell_type": "markdown",
   "metadata": {},
   "source": [
    "## Question\n",
    "\n",
    "Questions are specialized Python classes that include the question text, a model solution and test cases.\n",
    "\n",
    "It might be helpful when designing a question to show the true solution first:"
   ]
  },
  {
   "cell_type": "code",
   "execution_count": 3,
   "metadata": {},
   "outputs": [],
   "source": [
    "\"\"\"@ArgumentReverser\"\"\"\n",
    "\n",
    "from typing import Tuple, Any \n",
    "\n",
    "def arg_reverser(arg1: Any, arg2: Any, arg3: Any) -> Tuple[Any, Any, Any]:\n",
    "    \"\"\"Reverse my arguments.\"\"\"\n",
    "    return arg3, arg2, arg1"
   ]
  },
  {
   "cell_type": "code",
   "execution_count": 4,
   "metadata": {
    "tags": [
     "question"
    ]
   },
   "outputs": [],
   "source": [
    "import ast\n",
    "import nbtest\n",
    "import typing\n",
    "\n",
    "from nbquiz import FunctionTestCase, FunctionInfo\n",
    "from typing import Tuple, Any \n",
    "\n",
    "#\n",
    "# Framework code ensures the testable attributes are in the same \n",
    "# namespace as the test case. If users want to silence warnings from \n",
    "# their IDE, they can use the type hints syntax as shown below:\n",
    "#\n",
    "arg_reverser: typing.Callable[[object, object, object], tuple]\n",
    "\n",
    "class ArgumentReverser(FunctionTestCase):\n",
    "    \"\"\"\n",
    "    Write a function called `arg_reverser` that takes three arguments and returns\n",
    "    them in reverse order.\n",
    "    \"\"\"\n",
    "\n",
    "    tokens_required = [ast.FunctionDef]\n",
    "    tokens_forbidden = []\n",
    "    tags = [\"easy\", \"midterm\"]\n",
    "    \n",
    "    func_info = FunctionInfo(\"arg_reverser\", {'arg1': Any, 'arg2': Any, 'arg3': Any, 'return': Tuple} )\n",
    "    \n",
    "    def test_1_arg_reverser(self):\n",
    "        \"\"\"Testing arg_reverser()\"\"\"\n",
    "        # Assume the function is defined\n",
    "        self.assertEqual(arg_reverser(1, 2, 3), (3, 2, 1))\n",
    "        self.assertEqual(\n",
    "            arg_reverser(\"one\", \"two\", \"three\"), (\"three\", \"two\", \"one\")\n",
    "        )"
   ]
  },
  {
   "cell_type": "markdown",
   "metadata": {},
   "source": [
    "Generate a preview for copy/paste to an LMS"
   ]
  },
  {
   "cell_type": "code",
   "execution_count": 5,
   "metadata": {},
   "outputs": [
    {
     "data": {
      "text/markdown": [
       "\n",
       "Write a function called `arg_reverser` that takes three arguments and returns\n",
       "them in reverse order.\n",
       "\n",
       "Function name: `arg_reverser`:\n",
       "\n",
       "Arguments:\n",
       "\n",
       "  - `arg1`: `Any`\n",
       "  - `arg2`: `Any`\n",
       "  - `arg3`: `Any`\n",
       "\n",
       "Returns: `Tuple`\n",
       "\n"
      ],
      "text/plain": [
       "<IPython.core.display.Markdown object>"
      ]
     },
     "execution_count": 5,
     "metadata": {},
     "output_type": "execute_result"
    }
   ],
   "source": [
    "from IPython.display import Markdown\n",
    "Markdown(ArgumentReverser.question())"
   ]
  },
  {
   "cell_type": "markdown",
   "metadata": {},
   "source": [
    "### Question Self Tests\n",
    "\n",
    "To test the question you can check it against the correct and incorrect solutions:"
   ]
  },
  {
   "cell_type": "code",
   "execution_count": 6,
   "metadata": {},
   "outputs": [
    {
     "data": {
      "text/html": [
       "<div style=\"font-size: large; font-weight: bold; margin-bottom: 1em; margin-top: 0.5em\">\n",
       "    \n",
       "        ✅ All tests passed.\n",
       "        \n",
       "</div>\n",
       "<div>\n",
       "    \n",
       "</div>"
      ],
      "text/plain": [
       "<IPython.core.display.HTML object>"
      ]
     },
     "execution_count": 6,
     "metadata": {},
     "output_type": "execute_result"
    }
   ],
   "source": [
    "%%testing ArgumentReverser\n",
    "nbtest_cases = [ArgumentReverser]"
   ]
  },
  {
   "cell_type": "code",
   "execution_count": 7,
   "metadata": {},
   "outputs": [],
   "source": [
    "nbtest.assert_ok()"
   ]
  },
  {
   "cell_type": "markdown",
   "metadata": {},
   "source": [
    "What about tests versus invalid solutions? They should be able to be in the notebook:"
   ]
  },
  {
   "cell_type": "code",
   "execution_count": 8,
   "metadata": {},
   "outputs": [],
   "source": [
    "\"\"\"@ArgumentReverser\"\"\"\n",
    "\n",
    "def arg_reverser(a, b):\n",
    "    \"\"\"Wrong number of arguments.\"\"\"\n",
    "    return b, a"
   ]
  },
  {
   "cell_type": "code",
   "execution_count": 9,
   "metadata": {},
   "outputs": [
    {
     "data": {
      "text/html": [
       "<div style=\"font-size: large; font-weight: bold; margin-bottom: 1em; margin-top: 0.5em\">\n",
       "    \n",
       "        ⚠️ Attention needed.\n",
       "        \n",
       "</div>\n",
       "<div>\n",
       "    \n",
       "        <div style=\"width: 75%; min-width: 500px; max-width: 800px; padding-left: 50px; padding-bottom: 2rem\">\n",
       "            <div style=\"clear: both;\">\n",
       "                <div style=\"float: left; padding: 0.25em;\">\n",
       "                    \n",
       "                        <span style=\"font-size: x-large; padding: 0.25em; color: red; font-weight: bold;\">❌</span>\n",
       "                    \n",
       "                    <span style=\"font-family: monospace;\">TypeError: arg_reverser() takes 2 positional arguments but 3 were given</span>\n",
       "                </div>    \n",
       "            </div>\n",
       "            <div style=\"clear: both;\">\n",
       "                <div style=\"float: left; vertical-align: middle; padding-top: 0.25em; padding-bottom: 1em;\">Testing arg_reverser()</div>\n",
       "            </div>\n",
       "        </div>\n",
       "    \n",
       "</div>"
      ],
      "text/plain": [
       "<IPython.core.display.HTML object>"
      ]
     },
     "execution_count": 9,
     "metadata": {},
     "output_type": "execute_result"
    }
   ],
   "source": [
    "%%testing ArgumentReverser\n",
    "nbtest_cases = [ArgumentReverser]"
   ]
  },
  {
   "cell_type": "code",
   "execution_count": 10,
   "metadata": {},
   "outputs": [],
   "source": [
    "nbtest.assert_error()"
   ]
  },
  {
   "cell_type": "code",
   "execution_count": 11,
   "metadata": {},
   "outputs": [],
   "source": [
    "\"\"\"@ArgumentReverser\"\"\"\n",
    "\n",
    "def arg_reverser(a, b, c):\n",
    "    \"\"\"Bad return value\"\"\"\n",
    "    return b, a, c"
   ]
  },
  {
   "cell_type": "code",
   "execution_count": 12,
   "metadata": {},
   "outputs": [
    {
     "data": {
      "text/html": [
       "<div style=\"font-size: large; font-weight: bold; margin-bottom: 1em; margin-top: 0.5em\">\n",
       "    \n",
       "        ⚠️ Attention needed.\n",
       "        \n",
       "</div>\n",
       "<div>\n",
       "    \n",
       "        <div style=\"width: 75%; min-width: 500px; max-width: 800px; padding-left: 50px; padding-bottom: 2rem\">\n",
       "            <div style=\"clear: both;\">\n",
       "                <div style=\"float: left; padding: 0.25em;\">\n",
       "                    \n",
       "                        <span style=\"font-size: x-large; padding: 0.25em; color: red; font-weight: bold;\">❌</span>\n",
       "                    \n",
       "                    <span style=\"font-family: monospace;\">Tuples differ: (2, 1, 3) != (3, 2, 1)\n",
       "\n",
       "First differing element 0:\n",
       "2\n",
       "3\n",
       "\n",
       "- (2, 1, 3)\n",
       "+ (3, 2, 1)</span>\n",
       "                </div>    \n",
       "            </div>\n",
       "            <div style=\"clear: both;\">\n",
       "                <div style=\"float: left; vertical-align: middle; padding-top: 0.25em; padding-bottom: 1em;\">Testing arg_reverser()</div>\n",
       "            </div>\n",
       "        </div>\n",
       "    \n",
       "</div>"
      ],
      "text/plain": [
       "<IPython.core.display.HTML object>"
      ]
     },
     "execution_count": 12,
     "metadata": {},
     "output_type": "execute_result"
    }
   ],
   "source": [
    "%%testing ArgumentReverser\n",
    "nbtest_cases = [ArgumentReverser]"
   ]
  },
  {
   "cell_type": "code",
   "execution_count": 13,
   "metadata": {},
   "outputs": [],
   "source": [
    "nbtest.assert_error()"
   ]
  },
  {
   "cell_type": "code",
   "execution_count": 14,
   "metadata": {},
   "outputs": [],
   "source": [
    "\"\"\"@ArgumentReverser\"\"\"\n",
    "\n",
    "def arg_misspell(a, b, c):\n",
    "    \"\"\"Bad return value\"\"\"\n",
    "    return b, a, c"
   ]
  },
  {
   "cell_type": "code",
   "execution_count": 15,
   "metadata": {},
   "outputs": [
    {
     "data": {
      "text/html": [
       "<div style=\"font-size: large; font-weight: bold; margin-bottom: 1em; margin-top: 0.5em\">\n",
       "    \n",
       "        ⚠️ Attention needed.\n",
       "        \n",
       "</div>\n",
       "<div>\n",
       "    \n",
       "        <div style=\"width: 75%; min-width: 500px; max-width: 800px; padding-left: 50px; padding-bottom: 2rem\">\n",
       "            <div style=\"clear: both;\">\n",
       "                <div style=\"float: left; padding: 0.25em;\">\n",
       "                    \n",
       "                        <span style=\"font-size: x-large; padding: 0.25em; color: red; font-weight: bold;\">❌</span>\n",
       "                    \n",
       "                    <span style=\"font-family: monospace;\">I can&#39;t find a function named &#34;arg_reverser&#34; </span>\n",
       "                </div>    \n",
       "            </div>\n",
       "            <div style=\"clear: both;\">\n",
       "                <div style=\"float: left; vertical-align: middle; padding-top: 0.25em; padding-bottom: 1em;\">Testing arg_reverser()</div>\n",
       "            </div>\n",
       "        </div>\n",
       "    \n",
       "</div>"
      ],
      "text/plain": [
       "<IPython.core.display.HTML object>"
      ]
     },
     "execution_count": 15,
     "metadata": {},
     "output_type": "execute_result"
    }
   ],
   "source": [
    "%%testing ArgumentReverser\n",
    "nbtest_cases = [ArgumentReverser]"
   ]
  },
  {
   "cell_type": "code",
   "execution_count": 16,
   "metadata": {},
   "outputs": [],
   "source": [
    "nbtest.assert_error()"
   ]
  },
  {
   "cell_type": "markdown",
   "metadata": {},
   "source": [
    "## Question with a Function and a Cell Variant\n",
    "\n",
    "This question can be asked in function and cell-based forms."
   ]
  },
  {
   "cell_type": "code",
   "execution_count": 17,
   "metadata": {},
   "outputs": [],
   "source": [
    "\"\"\"@TriangeAreaFunction\"\"\"\n",
    "\n",
    "from numbers import Number\n",
    "\n",
    "def triangle_area(base: Number, height: Number) -> Number:\n",
    "    \"\"\"The solution\"\"\"\n",
    "    return (base * height) / 2"
   ]
  },
  {
   "cell_type": "code",
   "execution_count": 18,
   "metadata": {
    "tags": [
     "question"
    ]
   },
   "outputs": [],
   "source": [
    "import random \n",
    "\n",
    "from nbquiz import FunctionTestCase, FunctionInfo\n",
    "from numbers import Number\n",
    "\n",
    "class TriangeAreaFunction(FunctionTestCase):\n",
    "    \"\"\"\n",
    "    Write a function called `triangle_area` that takes two arguments, `base` and `height`. The function returns the area\n",
    "    of a triangle that has the given `base` and `height`.\n",
    "    \"\"\"\n",
    "\n",
    "    tokens_required = [ast.FunctionDef]\n",
    "    tokens_forbidden = []\n",
    "    tags = [\"easy\", \"midterm\"]\n",
    "\n",
    "    func_info = FunctionInfo('triangle_area', {'base': Number, 'height': Number, 'return': Number})\n",
    "    \n",
    "    def test_1_triangle_area(self):\n",
    "        \"\"\"Testing triangle_area()\"\"\"\n",
    "        b = random.uniform(0, 100)\n",
    "        h = random.uniform(0, 100)\n",
    "        self.assertAlmostEqual(triangle_area(b, h), (b * h) / 2)"
   ]
  },
  {
   "cell_type": "code",
   "execution_count": 19,
   "metadata": {},
   "outputs": [
    {
     "data": {
      "text/markdown": [
       "\n",
       "Write a function called `triangle_area` that takes two arguments, `base` and `height`. The function returns the area\n",
       "of a triangle that has the given `base` and `height`.\n",
       "\n",
       "Function name: `triangle_area`:\n",
       "\n",
       "Arguments:\n",
       "\n",
       "  - `base`: `<class 'numbers.Number'>`\n",
       "  - `height`: `<class 'numbers.Number'>`\n",
       "\n",
       "Returns: `<class 'numbers.Number'>`\n",
       "\n"
      ],
      "text/plain": [
       "<IPython.core.display.Markdown object>"
      ]
     },
     "execution_count": 19,
     "metadata": {},
     "output_type": "execute_result"
    }
   ],
   "source": [
    "from IPython.display import Markdown\n",
    "Markdown(TriangeAreaFunction.question())"
   ]
  },
  {
   "cell_type": "code",
   "execution_count": 20,
   "metadata": {},
   "outputs": [
    {
     "data": {
      "text/html": [
       "<div style=\"font-size: large; font-weight: bold; margin-bottom: 1em; margin-top: 0.5em\">\n",
       "    \n",
       "        ✅ All tests passed.\n",
       "        \n",
       "</div>\n",
       "<div>\n",
       "    \n",
       "</div>"
      ],
      "text/plain": [
       "<IPython.core.display.HTML object>"
      ]
     },
     "execution_count": 20,
     "metadata": {},
     "output_type": "execute_result"
    }
   ],
   "source": [
    "%%testing TriangeAreaFunction\n",
    "nbtest_cases = [TriangeAreaFunction]"
   ]
  },
  {
   "cell_type": "code",
   "execution_count": 21,
   "metadata": {
    "tags": [
     "question"
    ]
   },
   "outputs": [],
   "source": [
    "from nbquiz import CellTestCase\n",
    "\n",
    "class TriangleAreaCell(TriangeAreaFunction, CellTestCase):\n",
    "    \"\"\"\n",
    "    Create a cell that defines the variables `base` and `height`. The cell uses the variables to compute the area of a triangle.\n",
    "    The cell should result in the computation.\n",
    "    \"\"\"\n",
    "    tags = [\"easy\", \"midterm\"]\n",
    "    tokens_forbidden = []\n",
    "    tokens_required = []\n"
   ]
  },
  {
   "cell_type": "code",
   "execution_count": 22,
   "metadata": {},
   "outputs": [
    {
     "data": {
      "text/markdown": [
       "\n",
       "Create a cell that defines the variables `base` and `height`. The cell uses the variables to compute the area of a triangle.\n",
       "The cell should result in the computation.\n"
      ],
      "text/plain": [
       "<IPython.core.display.Markdown object>"
      ]
     },
     "execution_count": 22,
     "metadata": {},
     "output_type": "execute_result"
    }
   ],
   "source": [
    "Markdown(TriangleAreaCell.question())"
   ]
  },
  {
   "cell_type": "code",
   "execution_count": 23,
   "metadata": {},
   "outputs": [
    {
     "data": {
      "text/plain": [
       "10000.0"
      ]
     },
     "execution_count": 23,
     "metadata": {},
     "output_type": "execute_result"
    }
   ],
   "source": [
    "\"\"\"@TriangleAreaCell\"\"\"\n",
    "\n",
    "base = 100\n",
    "height = 200\n",
    "area = (base * height) / 2\n",
    "\n",
    "area"
   ]
  },
  {
   "cell_type": "code",
   "execution_count": 24,
   "metadata": {},
   "outputs": [
    {
     "data": {
      "text/html": [
       "<div style=\"font-size: large; font-weight: bold; margin-bottom: 1em; margin-top: 0.5em\">\n",
       "    \n",
       "        ✅ All tests passed.\n",
       "        \n",
       "</div>\n",
       "<div>\n",
       "    \n",
       "</div>"
      ],
      "text/plain": [
       "<IPython.core.display.HTML object>"
      ]
     },
     "execution_count": 24,
     "metadata": {},
     "output_type": "execute_result"
    }
   ],
   "source": [
    "%%testing TriangleAreaCell\n",
    "nbtest_cases = [TriangleAreaCell]"
   ]
  },
  {
   "cell_type": "code",
   "execution_count": 25,
   "metadata": {},
   "outputs": [],
   "source": [
    "nbtest.assert_ok()"
   ]
  },
  {
   "cell_type": "code",
   "execution_count": 26,
   "metadata": {},
   "outputs": [
    {
     "data": {
      "text/plain": [
       "5000.0"
      ]
     },
     "execution_count": 26,
     "metadata": {},
     "output_type": "execute_result"
    }
   ],
   "source": [
    "\"\"\"@TriangleAreaCell\"\"\"\n",
    "\n",
    "# incorrect calculation \n",
    "\n",
    "base = 100\n",
    "height = 200\n",
    "area = (base * height) / 4\n",
    "\n",
    "area"
   ]
  },
  {
   "cell_type": "code",
   "execution_count": 27,
   "metadata": {},
   "outputs": [
    {
     "data": {
      "text/html": [
       "<div style=\"font-size: large; font-weight: bold; margin-bottom: 1em; margin-top: 0.5em\">\n",
       "    \n",
       "        ⚠️ Attention needed.\n",
       "        \n",
       "</div>\n",
       "<div>\n",
       "    \n",
       "        <div style=\"width: 75%; min-width: 500px; max-width: 800px; padding-left: 50px; padding-bottom: 2rem\">\n",
       "            <div style=\"clear: both;\">\n",
       "                <div style=\"float: left; padding: 0.25em;\">\n",
       "                    \n",
       "                        <span style=\"font-size: x-large; padding: 0.25em; color: red; font-weight: bold;\">❌</span>\n",
       "                    \n",
       "                    <span style=\"font-family: monospace;\">910.9166337517916 != 1821.833267503583 within 7 places (910.9166337517916 difference)</span>\n",
       "                </div>    \n",
       "            </div>\n",
       "            <div style=\"clear: both;\">\n",
       "                <div style=\"float: left; vertical-align: middle; padding-top: 0.25em; padding-bottom: 1em;\">Testing triangle_area()</div>\n",
       "            </div>\n",
       "        </div>\n",
       "    \n",
       "</div>"
      ],
      "text/plain": [
       "<IPython.core.display.HTML object>"
      ]
     },
     "execution_count": 27,
     "metadata": {},
     "output_type": "execute_result"
    }
   ],
   "source": [
    "%%testing TriangleAreaCell\n",
    "nbtest_cases = [TriangleAreaCell]"
   ]
  },
  {
   "cell_type": "code",
   "execution_count": 28,
   "metadata": {},
   "outputs": [],
   "source": [
    "nbtest.assert_error()"
   ]
  }
 ],
 "metadata": {
  "kernelspec": {
   "display_name": "venv-p4e",
   "language": "python",
   "name": "python3"
  },
  "language_info": {
   "codemirror_mode": {
    "name": "ipython",
    "version": 3
   },
   "file_extension": ".py",
   "mimetype": "text/x-python",
   "name": "python",
   "nbconvert_exporter": "python",
   "pygments_lexer": "ipython3",
   "version": "3.12.3"
  }
 },
 "nbformat": 4,
 "nbformat_minor": 2
}
