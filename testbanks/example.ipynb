{
 "cells": [
  {
   "cell_type": "code",
   "execution_count": 1,
   "metadata": {},
   "outputs": [],
   "source": [
    "%load_ext nbtest"
   ]
  },
  {
   "cell_type": "markdown",
   "metadata": {},
   "source": [
    "# Test Bank\n",
    "\n",
    "This is an example test bank."
   ]
  },
  {
   "cell_type": "code",
   "execution_count": 2,
   "metadata": {
    "tags": [
     "question"
    ]
   },
   "outputs": [],
   "source": [
    "## Code shared by the test bank can go here.\n",
    "\n",
    "def shared():\n",
    "    pass"
   ]
  },
  {
   "cell_type": "markdown",
   "metadata": {},
   "source": [
    "## The Simplest Question\n",
    "\n",
    "Questions are specialized Python classes that include the question text, some information about what kind of solution is expected and test cases. To enable maximum reusability the variable `self.solution` will be defined by the framework code. In the simplest form, questions can expect:\n",
    "\n",
    "1. The solution will be marked with a tag that has the same name as the test class (e.g. `ArgumentReverser`) \n",
    "2. `self.solution` will contain the `TagCacheEntry` with the solution cell. \n",
    "\n",
    "Here is a very simple test question:"
   ]
  },
  {
   "cell_type": "code",
   "execution_count": 3,
   "metadata": {
    "tags": [
     "question"
    ]
   },
   "outputs": [],
   "source": [
    "from nbquiz import TestQuestion\n",
    "\n",
    "class SimpleArgReverse(TestQuestion):\n",
    "    \"\"\"\n",
    "    Write a function called `arg_reverser` that takes three arguments and returns\n",
    "    them in reverse order.\n",
    "    \"\"\"\n",
    "\n",
    "    def test_1_arg_reverser(self):\n",
    "        \"\"\"Testing arg_reverser()\"\"\"\n",
    "\n",
    "        assert \"arg_reverser\" in self.solution.ns, \"\"\"I can't find your solution.\"\"\"\n",
    "        self.assertEqual(self.solution.ns[\"arg_reverser\"](1, 2, 3), (3, 2, 1))\n",
    "        self.assertEqual(\n",
    "            self.solution.ns[\"arg_reverser\"](\"one\", \"two\", \"three\"), (\"three\", \"two\", \"one\")\n",
    "        )"
   ]
  },
  {
   "cell_type": "markdown",
   "metadata": {},
   "source": [
    "Generate a preview for copy/paste to an LMS"
   ]
  },
  {
   "cell_type": "code",
   "execution_count": 4,
   "metadata": {},
   "outputs": [
    {
     "data": {
      "text/markdown": [
       "\n",
       "\n",
       "Write a function called `arg_reverser` that takes three arguments and returns\n",
       "them in reverse order.\n",
       "\n",
       "\n",
       "Add the tag `@SimpleArgReverse` to the docstring in your solution cell.\n"
      ],
      "text/plain": [
       "<IPython.core.display.Markdown object>"
      ]
     },
     "execution_count": 4,
     "metadata": {},
     "output_type": "execute_result"
    }
   ],
   "source": [
    "from IPython.display import Markdown\n",
    "Markdown(SimpleArgReverse.question())"
   ]
  },
  {
   "cell_type": "markdown",
   "metadata": {},
   "source": [
    "### Question Self Tests\n",
    "\n",
    "To test the question you can check it against the correct and incorrect solutions:"
   ]
  },
  {
   "cell_type": "code",
   "execution_count": 5,
   "metadata": {},
   "outputs": [],
   "source": [
    "\"\"\"@SimpleArgReverse\"\"\"\n",
    "\n",
    "def arg_reverser(arg1, arg2, arg3):\n",
    "    \"\"\"Reverse my arguments.\"\"\"\n",
    "    return arg3, arg2, arg1"
   ]
  },
  {
   "cell_type": "code",
   "execution_count": 6,
   "metadata": {},
   "outputs": [
    {
     "data": {
      "text/html": [
       "<div style=\"font-size: large; font-weight: bold; margin-bottom: 1em; margin-top: 0.5em\">\n",
       "    \n",
       "        ✅ All tests passed.\n",
       "        \n",
       "</div>\n",
       "<div>\n",
       "    \n",
       "</div>"
      ],
      "text/plain": [
       "<IPython.core.display.HTML object>"
      ]
     },
     "execution_count": 6,
     "metadata": {},
     "output_type": "execute_result"
    }
   ],
   "source": [
    "%%testing SimpleArgReverse\n",
    "nbtest_cases = [SimpleArgReverse]"
   ]
  },
  {
   "cell_type": "code",
   "execution_count": 7,
   "metadata": {},
   "outputs": [],
   "source": [
    "import nbtest\n",
    "nbtest.assert_ok()"
   ]
  },
  {
   "cell_type": "markdown",
   "metadata": {},
   "source": [
    "What about tests versus invalid solutions? They should be able to be in the notebook:"
   ]
  },
  {
   "cell_type": "code",
   "execution_count": 8,
   "metadata": {},
   "outputs": [],
   "source": [
    "\"\"\"@SimpleArgReverse\"\"\"\n",
    "\n",
    "def arg_reverser(a, b):\n",
    "    \"\"\"Wrong number of arguments.\"\"\"\n",
    "    return b, a"
   ]
  },
  {
   "cell_type": "code",
   "execution_count": 9,
   "metadata": {},
   "outputs": [
    {
     "data": {
      "text/html": [
       "<div style=\"font-size: large; font-weight: bold; margin-bottom: 1em; margin-top: 0.5em\">\n",
       "    \n",
       "        ⚠️ Attention needed.\n",
       "        \n",
       "</div>\n",
       "<div>\n",
       "    \n",
       "        <div style=\"width: 75%; min-width: 500px; max-width: 800px; padding-left: 50px; padding-bottom: 2rem\">\n",
       "            <div style=\"clear: both;\">\n",
       "                <div style=\"float: left; padding: 0.25em;\">\n",
       "                    \n",
       "                        <span style=\"font-size: x-large; padding: 0.25em; color: red; font-weight: bold;\">❌</span>\n",
       "                    \n",
       "                    <span style=\"font-family: monospace;\">TypeError: arg_reverser() takes 2 positional arguments but 3 were given</span>\n",
       "                </div>    \n",
       "            </div>\n",
       "            <div style=\"clear: both;\">\n",
       "                <div style=\"float: left; vertical-align: middle; padding-top: 0.25em; padding-bottom: 1em;\">Testing arg_reverser()</div>\n",
       "            </div>\n",
       "        </div>\n",
       "    \n",
       "</div>"
      ],
      "text/plain": [
       "<IPython.core.display.HTML object>"
      ]
     },
     "execution_count": 9,
     "metadata": {},
     "output_type": "execute_result"
    }
   ],
   "source": [
    "%%testing SimpleArgReverse\n",
    "nbtest_cases = [SimpleArgReverse]"
   ]
  },
  {
   "cell_type": "code",
   "execution_count": 10,
   "metadata": {},
   "outputs": [],
   "source": [
    "nbtest.assert_error()"
   ]
  },
  {
   "cell_type": "markdown",
   "metadata": {},
   "source": [
    "Incorrect return values are reported:"
   ]
  },
  {
   "cell_type": "code",
   "execution_count": 11,
   "metadata": {},
   "outputs": [],
   "source": [
    "\"\"\"@SimpleArgReverse\"\"\"\n",
    "\n",
    "def arg_reverser(a, b, c):\n",
    "    \"\"\"Bad return value\"\"\"\n",
    "    return b, a, c"
   ]
  },
  {
   "cell_type": "code",
   "execution_count": 12,
   "metadata": {},
   "outputs": [
    {
     "data": {
      "text/html": [
       "<div style=\"font-size: large; font-weight: bold; margin-bottom: 1em; margin-top: 0.5em\">\n",
       "    \n",
       "        ⚠️ Attention needed.\n",
       "        \n",
       "</div>\n",
       "<div>\n",
       "    \n",
       "        <div style=\"width: 75%; min-width: 500px; max-width: 800px; padding-left: 50px; padding-bottom: 2rem\">\n",
       "            <div style=\"clear: both;\">\n",
       "                <div style=\"float: left; padding: 0.25em;\">\n",
       "                    \n",
       "                        <span style=\"font-size: x-large; padding: 0.25em; color: red; font-weight: bold;\">❌</span>\n",
       "                    \n",
       "                    <span style=\"font-family: monospace;\">Tuples differ: (2, 1, 3) != (3, 2, 1)\n",
       "\n",
       "First differing element 0:\n",
       "2\n",
       "3\n",
       "\n",
       "- (2, 1, 3)\n",
       "+ (3, 2, 1)</span>\n",
       "                </div>    \n",
       "            </div>\n",
       "            <div style=\"clear: both;\">\n",
       "                <div style=\"float: left; vertical-align: middle; padding-top: 0.25em; padding-bottom: 1em;\">Testing arg_reverser()</div>\n",
       "            </div>\n",
       "        </div>\n",
       "    \n",
       "</div>"
      ],
      "text/plain": [
       "<IPython.core.display.HTML object>"
      ]
     },
     "execution_count": 12,
     "metadata": {},
     "output_type": "execute_result"
    }
   ],
   "source": [
    "%%testing SimpleArgReverse\n",
    "nbtest_cases = [SimpleArgReverse]"
   ]
  },
  {
   "cell_type": "code",
   "execution_count": 13,
   "metadata": {},
   "outputs": [],
   "source": [
    "nbtest.assert_error()"
   ]
  },
  {
   "cell_type": "markdown",
   "metadata": {},
   "source": [
    "## Using FunctionQuestion \n",
    "\n",
    "The `FunctionQuestion` class supports a number of ways to validate a function question. Function questions can also become cell questions. See below. A function question:\n",
    "\n",
    "1. Validates that the function exists and is a function. \n",
    "1. Ensures that the function has a docstring. \n",
    "1. Validates the number, order and names of arguments. \n",
    "1. Validates the return type by wrapping the student function. \n",
    "\n",
    "A simple function question is shown below:"
   ]
  },
  {
   "cell_type": "code",
   "execution_count": 14,
   "metadata": {},
   "outputs": [],
   "source": [
    "import ast \n",
    "from nbquiz import FunctionQuestion\n",
    "\n",
    "class TriangleMaxArea(FunctionQuestion):\n",
    "    \"\"\"\n",
    "    Write a function called `triangle_limit` that takes two arguments, `base` and `height`. Calculate the area of a triangle with `base` and `height`. \n",
    "    If the area of the triangle is greater than or equal to `limit`, return `True` otherwise return `False`. \n",
    "    \"\"\"\n",
    "\n",
    "    tokens_required = [ast.GtE]\n",
    "    tokens_forbidden = [ast.If]\n",
    "    tags = []\n",
    "\n",
    "    # self.solution will be this attribute\n",
    "    name = \"triangle_limit\" \n",
    "\n",
    "    # Validate self.solution based on the type hints style attributes. \n",
    "    # When a FunctionValidator is used `self.solution` will be the function.\n",
    "    annotations = {\"base\": float, \"height\": float, \"return\": bool}\n",
    "\n",
    "    def test_the_func(self):\n",
    "        self.assertEqual(\n",
    "            self.solution(10, 10), True, \"\"\"Should be True.\"\"\"\n",
    "        )\n",
    "        self.assertEqual(\n",
    "            self.solution(10,1), False, \"\"\"Should be True.\"\"\"\n",
    "        )\n",
    "        self.assertEqual(\n",
    "            self.solution(10,0.1), False, \"\"\"Should be False.\"\"\"\n",
    "        )\n"
   ]
  },
  {
   "cell_type": "code",
   "execution_count": 15,
   "metadata": {},
   "outputs": [],
   "source": [
    "\"\"\"@TriangleMaxArea\"\"\"\n",
    "def triangle_limit(base, height):\n",
    "    \"\"\"This is my solution.\"\"\"\n",
    "    return (base * height) / 2 >= 10"
   ]
  },
  {
   "cell_type": "code",
   "execution_count": 16,
   "metadata": {},
   "outputs": [
    {
     "data": {
      "text/html": [
       "<div style=\"font-size: large; font-weight: bold; margin-bottom: 1em; margin-top: 0.5em\">\n",
       "    \n",
       "        ✅ All tests passed.\n",
       "        \n",
       "</div>\n",
       "<div>\n",
       "    \n",
       "</div>"
      ],
      "text/plain": [
       "<IPython.core.display.HTML object>"
      ]
     },
     "execution_count": 16,
     "metadata": {},
     "output_type": "execute_result"
    }
   ],
   "source": [
    "%%testing TriangleMaxArea\n",
    "nbtest_cases = [TriangleMaxArea]"
   ]
  },
  {
   "cell_type": "markdown",
   "metadata": {},
   "source": [
    "A number of error conditions are checked for:"
   ]
  },
  {
   "cell_type": "code",
   "execution_count": 17,
   "metadata": {},
   "outputs": [],
   "source": [
    "\"\"\"@TriangleMaxArea\"\"\"\n",
    "\n",
    "# Wrong or misspelled name. \n",
    "def triangle_limit_blah(base, height):\n",
    "    \"\"\"This is my solution.\"\"\"\n",
    "    return (base * height) / 2 >= 10"
   ]
  },
  {
   "cell_type": "code",
   "execution_count": 18,
   "metadata": {},
   "outputs": [
    {
     "data": {
      "text/html": [
       "<div style=\"font-size: large; font-weight: bold; margin-bottom: 1em; margin-top: 0.5em\">\n",
       "    \n",
       "        ⚠️ Attention needed.\n",
       "        \n",
       "</div>\n",
       "<div>\n",
       "    \n",
       "        <div style=\"width: 75%; min-width: 500px; max-width: 800px; padding-left: 50px; padding-bottom: 2rem\">\n",
       "            <div style=\"clear: both;\">\n",
       "                <div style=\"float: left; padding: 0.25em;\">\n",
       "                    \n",
       "                        <span style=\"font-size: x-large; padding: 0.25em; color: red; font-weight: bold;\">❌</span>\n",
       "                    \n",
       "                    <span style=\"font-family: monospace;\">The name triangle_limit has not been defined.</span>\n",
       "                </div>    \n",
       "            </div>\n",
       "            <div style=\"clear: both;\">\n",
       "                <div style=\"float: left; vertical-align: middle; padding-top: 0.25em; padding-bottom: 1em;\">The function <span style=\"font-family: monospace\">__main__.TriangleMaxArea.test_the_func()</span> reported an error.</div>\n",
       "            </div>\n",
       "        </div>\n",
       "    \n",
       "</div>"
      ],
      "text/plain": [
       "<IPython.core.display.HTML object>"
      ]
     },
     "execution_count": 18,
     "metadata": {},
     "output_type": "execute_result"
    }
   ],
   "source": [
    "%%testing TriangleMaxArea\n",
    "nbtest_cases = [TriangleMaxArea]"
   ]
  },
  {
   "cell_type": "code",
   "execution_count": 19,
   "metadata": {},
   "outputs": [],
   "source": [
    "\"\"\"@TriangleMaxArea\"\"\"\n",
    "\n",
    "# Parameters are incorrect or are in the wrong order:\n",
    "def triangle_limit(height, base):\n",
    "    \"\"\"This is my solution.\"\"\"\n",
    "    return (base * height) / 2 >= 10"
   ]
  },
  {
   "cell_type": "code",
   "execution_count": 20,
   "metadata": {},
   "outputs": [
    {
     "data": {
      "text/html": [
       "<div style=\"font-size: large; font-weight: bold; margin-bottom: 1em; margin-top: 0.5em\">\n",
       "    \n",
       "        ⚠️ Attention needed.\n",
       "        \n",
       "</div>\n",
       "<div>\n",
       "    \n",
       "        <div style=\"width: 75%; min-width: 500px; max-width: 800px; padding-left: 50px; padding-bottom: 2rem\">\n",
       "            <div style=\"clear: both;\">\n",
       "                <div style=\"float: left; padding: 0.25em;\">\n",
       "                    \n",
       "                        <span style=\"font-size: x-large; padding: 0.25em; color: red; font-weight: bold;\">❌</span>\n",
       "                    \n",
       "                    <span style=\"font-family: monospace;\">The argument &#34;height&#34; is misspelled or in the wrong place.</span>\n",
       "                </div>    \n",
       "            </div>\n",
       "            <div style=\"clear: both;\">\n",
       "                <div style=\"float: left; vertical-align: middle; padding-top: 0.25em; padding-bottom: 1em;\">The function <span style=\"font-family: monospace\">__main__.TriangleMaxArea.test_the_func()</span> reported an error.</div>\n",
       "            </div>\n",
       "        </div>\n",
       "    \n",
       "</div>"
      ],
      "text/plain": [
       "<IPython.core.display.HTML object>"
      ]
     },
     "execution_count": 20,
     "metadata": {},
     "output_type": "execute_result"
    }
   ],
   "source": [
    "%%testing TriangleMaxArea\n",
    "nbtest_cases = [TriangleMaxArea]"
   ]
  },
  {
   "cell_type": "code",
   "execution_count": 21,
   "metadata": {},
   "outputs": [],
   "source": [
    "\"\"\"@TriangleMaxArea\"\"\"\n",
    "\n",
    "# No docstring\n",
    "def triangle_limit(base, height):\n",
    "    return (base * height) / 2 >= 10"
   ]
  },
  {
   "cell_type": "code",
   "execution_count": 22,
   "metadata": {},
   "outputs": [
    {
     "data": {
      "text/html": [
       "<div style=\"font-size: large; font-weight: bold; margin-bottom: 1em; margin-top: 0.5em\">\n",
       "    \n",
       "        ⚠️ Attention needed.\n",
       "        \n",
       "</div>\n",
       "<div>\n",
       "    \n",
       "        <div style=\"width: 75%; min-width: 500px; max-width: 800px; padding-left: 50px; padding-bottom: 2rem\">\n",
       "            <div style=\"clear: both;\">\n",
       "                <div style=\"float: left; padding: 0.25em;\">\n",
       "                    \n",
       "                        <span style=\"font-size: x-large; padding: 0.25em; color: red; font-weight: bold;\">❌</span>\n",
       "                    \n",
       "                    <span style=\"font-family: monospace;\">The function triangle_limit has no docstring.</span>\n",
       "                </div>    \n",
       "            </div>\n",
       "            <div style=\"clear: both;\">\n",
       "                <div style=\"float: left; vertical-align: middle; padding-top: 0.25em; padding-bottom: 1em;\">The function <span style=\"font-family: monospace\">__main__.TriangleMaxArea.test_the_func()</span> reported an error.</div>\n",
       "            </div>\n",
       "        </div>\n",
       "    \n",
       "</div>"
      ],
      "text/plain": [
       "<IPython.core.display.HTML object>"
      ]
     },
     "execution_count": 22,
     "metadata": {},
     "output_type": "execute_result"
    }
   ],
   "source": [
    "%%testing TriangleMaxArea\n",
    "nbtest_cases = [TriangleMaxArea]"
   ]
  },
  {
   "cell_type": "code",
   "execution_count": 23,
   "metadata": {},
   "outputs": [],
   "source": [
    "\"\"\"@TriangleMaxArea\"\"\"\n",
    "\n",
    "# Wrong return type.\n",
    "def triangle_limit(base, height):\n",
    "    \"\"\"This is my solution.\"\"\"\n",
    "    return (base >= height) / 2 "
   ]
  },
  {
   "cell_type": "code",
   "execution_count": 24,
   "metadata": {},
   "outputs": [
    {
     "data": {
      "text/html": [
       "<div style=\"font-size: large; font-weight: bold; margin-bottom: 1em; margin-top: 0.5em\">\n",
       "    \n",
       "        ⚠️ Attention needed.\n",
       "        \n",
       "</div>\n",
       "<div>\n",
       "    \n",
       "        <div style=\"width: 75%; min-width: 500px; max-width: 800px; padding-left: 50px; padding-bottom: 2rem\">\n",
       "            <div style=\"clear: both;\">\n",
       "                <div style=\"float: left; padding: 0.25em;\">\n",
       "                    \n",
       "                        <span style=\"font-size: x-large; padding: 0.25em; color: red; font-weight: bold;\">❌</span>\n",
       "                    \n",
       "                    <span style=\"font-family: monospace;\">The function triangle_limit didn&#39;t return a &lt;class &#39;bool&#39;&gt;</span>\n",
       "                </div>    \n",
       "            </div>\n",
       "            <div style=\"clear: both;\">\n",
       "                <div style=\"float: left; vertical-align: middle; padding-top: 0.25em; padding-bottom: 1em;\">The function <span style=\"font-family: monospace\">__main__.TriangleMaxArea.test_the_func()</span> reported an error.</div>\n",
       "            </div>\n",
       "        </div>\n",
       "    \n",
       "</div>"
      ],
      "text/plain": [
       "<IPython.core.display.HTML object>"
      ]
     },
     "execution_count": 24,
     "metadata": {},
     "output_type": "execute_result"
    }
   ],
   "source": [
    "%%testing TriangleMaxArea\n",
    "nbtest_cases = [TriangleMaxArea]"
   ]
  },
  {
   "cell_type": "code",
   "execution_count": 25,
   "metadata": {},
   "outputs": [],
   "source": [
    "\"\"\"@TriangleMaxArea\"\"\"\n",
    "\n",
    "# Missing the ast.GtE token.\n",
    "def triangle_limit(base, height):\n",
    "    \"\"\"This is my solution.\"\"\"\n",
    "    return (base * height) / 2 <= 10"
   ]
  },
  {
   "cell_type": "code",
   "execution_count": 26,
   "metadata": {},
   "outputs": [
    {
     "data": {
      "text/html": [
       "<div style=\"font-size: large; font-weight: bold; margin-bottom: 1em; margin-top: 0.5em\">\n",
       "    \n",
       "        ⚠️ Attention needed.\n",
       "        \n",
       "</div>\n",
       "<div>\n",
       "    \n",
       "        <div style=\"width: 75%; min-width: 500px; max-width: 800px; padding-left: 50px; padding-bottom: 2rem\">\n",
       "            <div style=\"clear: both;\">\n",
       "                <div style=\"float: left; padding: 0.25em;\">\n",
       "                    \n",
       "                        <span style=\"font-size: x-large; padding: 0.25em; color: red; font-weight: bold;\">❌</span>\n",
       "                    \n",
       "                    <span style=\"font-family: monospace;\">The solution is missing required syntax.</span>\n",
       "                </div>    \n",
       "            </div>\n",
       "            <div style=\"clear: both;\">\n",
       "                <div style=\"float: left; vertical-align: middle; padding-top: 0.25em; padding-bottom: 1em;\">The function <span style=\"font-family: monospace\">__main__.TriangleMaxArea.test_the_func()</span> reported an error.</div>\n",
       "            </div>\n",
       "        </div>\n",
       "    \n",
       "</div>"
      ],
      "text/plain": [
       "<IPython.core.display.HTML object>"
      ]
     },
     "execution_count": 26,
     "metadata": {},
     "output_type": "execute_result"
    }
   ],
   "source": [
    "%%testing TriangleMaxArea\n",
    "nbtest_cases = [TriangleMaxArea]"
   ]
  },
  {
   "cell_type": "code",
   "execution_count": 27,
   "metadata": {},
   "outputs": [],
   "source": [
    "\"\"\"@TriangleMaxArea\"\"\"\n",
    "\n",
    "# Uses the ast.If token\n",
    "def triangle_limit(base, height):\n",
    "    \"\"\"This is my solution.\"\"\"\n",
    "    if (base * height) / 2 >= 10:\n",
    "        return True\n",
    "    else: \n",
    "        return False"
   ]
  },
  {
   "cell_type": "code",
   "execution_count": 28,
   "metadata": {},
   "outputs": [
    {
     "data": {
      "text/html": [
       "<div style=\"font-size: large; font-weight: bold; margin-bottom: 1em; margin-top: 0.5em\">\n",
       "    \n",
       "        ⚠️ Attention needed.\n",
       "        \n",
       "</div>\n",
       "<div>\n",
       "    \n",
       "        <div style=\"width: 75%; min-width: 500px; max-width: 800px; padding-left: 50px; padding-bottom: 2rem\">\n",
       "            <div style=\"clear: both;\">\n",
       "                <div style=\"float: left; padding: 0.25em;\">\n",
       "                    \n",
       "                        <span style=\"font-size: x-large; padding: 0.25em; color: red; font-weight: bold;\">❌</span>\n",
       "                    \n",
       "                    <span style=\"font-family: monospace;\">The solution uses forbidden syntax.</span>\n",
       "                </div>    \n",
       "            </div>\n",
       "            <div style=\"clear: both;\">\n",
       "                <div style=\"float: left; vertical-align: middle; padding-top: 0.25em; padding-bottom: 1em;\">The function <span style=\"font-family: monospace\">__main__.TriangleMaxArea.test_the_func()</span> reported an error.</div>\n",
       "            </div>\n",
       "        </div>\n",
       "    \n",
       "</div>"
      ],
      "text/plain": [
       "<IPython.core.display.HTML object>"
      ]
     },
     "execution_count": 28,
     "metadata": {},
     "output_type": "execute_result"
    }
   ],
   "source": [
    "%%testing TriangleMaxArea\n",
    "nbtest_cases = [TriangleMaxArea]"
   ]
  },
  {
   "cell_type": "markdown",
   "metadata": {},
   "source": [
    "## Parameterized Function Questions\n",
    "\n",
    "Questions can be parameterized so that variants of the question can be created automatically. The previous version of `TriangleMaxArea` hard coded the function name, arguments and the constant `10`. This version parameterizes them using class variables. Care should be taken to ensure test cases work for all parameters. \n",
    "\n",
    "The special form of `{variable}` in the `annotations` dictionary and the docstring causes the validator to look up the function name in the class variable called `variable`. \n",
    "\n",
    "> NOTE: These are **not** f-strings. The `{variable}` is a literal."
   ]
  },
  {
   "cell_type": "code",
   "execution_count": 29,
   "metadata": {},
   "outputs": [],
   "source": [
    "import ast \n",
    "from nbquiz import FunctionQuestion\n",
    "\n",
    "class TriangleMaxArea(FunctionQuestion):\n",
    "    \"\"\"\n",
    "    Write a function called {name} that takes two arguments, {base} and {height}. Calculate the area of a triangle with {base} and {height}. \n",
    "    If the area of the triangle is greater than or equal to {limit}, return `True` otherwise return `False`. \n",
    "    \"\"\"\n",
    "\n",
    "    tokens_required = [ast.GtE]\n",
    "    tokens_forbidden = [ast.If]\n",
    "    tags = []\n",
    "\n",
    "    # self.solution will be this attribute\n",
    "    name = \"triangle_limit\" \n",
    "    base = \"base\"\n",
    "    height = \"height\"\n",
    "    limit = 10\n",
    "\n",
    "    # Validate self.solution based on the type hints style attributes. \n",
    "    # When a FunctionValidator is used `self.solution` will be the function.\n",
    "    annotations = {\"{base}\": float, \"{height}\": float, \"return\": bool}\n",
    "\n",
    "    def test_the_func(self):\n",
    "        self.assertEqual(\n",
    "            self.solution(self.limit, self.limit), True, \"\"\"Should be True.\"\"\"\n",
    "        )\n",
    "        self.assertEqual(\n",
    "            self.solution(self.limit,1), False, \"\"\"Should be True.\"\"\"\n",
    "        )\n",
    "        self.assertEqual(\n",
    "            self.solution(self.limit,0.1), False, \"\"\"Should be False.\"\"\"\n",
    "        )\n"
   ]
  },
  {
   "cell_type": "code",
   "execution_count": 30,
   "metadata": {},
   "outputs": [],
   "source": [
    "\"\"\"@TriangleMaxArea\"\"\"\n",
    "def triangle_limit(base, height):\n",
    "    \"\"\"This is my solution.\"\"\"\n",
    "    return (base * height) / 2 >= 10"
   ]
  },
  {
   "cell_type": "code",
   "execution_count": 31,
   "metadata": {},
   "outputs": [
    {
     "data": {
      "text/html": [
       "<div style=\"font-size: large; font-weight: bold; margin-bottom: 1em; margin-top: 0.5em\">\n",
       "    \n",
       "        ✅ All tests passed.\n",
       "        \n",
       "</div>\n",
       "<div>\n",
       "    \n",
       "</div>"
      ],
      "text/plain": [
       "<IPython.core.display.HTML object>"
      ]
     },
     "execution_count": 31,
     "metadata": {},
     "output_type": "execute_result"
    }
   ],
   "source": [
    "%%testing TriangleMaxArea\n",
    "nbtest_cases = [TriangleMaxArea]"
   ]
  },
  {
   "cell_type": "markdown",
   "metadata": {},
   "source": [
    "### Creating a Variant \n",
    "\n",
    "When a question class is parameterize you can use the `variant` class function to create variants of the question:\n"
   ]
  },
  {
   "cell_type": "code",
   "execution_count": 32,
   "metadata": {},
   "outputs": [
    {
     "data": {
      "text/markdown": [
       "\n",
       "\n",
       "Write a function called triangle_max_100 that takes two arguments, b and h. Calculate the area of a triangle with b and h. \n",
       "If the area of the triangle is greater than or equal to 100, return `True` otherwise return `False`. \n",
       "\n",
       "\n",
       "Add the tag `@TriangleMaxAreacc4e` to the docstring in your solution cell.\n"
      ],
      "text/plain": [
       "<IPython.core.display.Markdown object>"
      ]
     },
     "execution_count": 32,
     "metadata": {},
     "output_type": "execute_result"
    }
   ],
   "source": [
    "variant = TriangleMaxArea.variant(\n",
    "    name = \"triangle_max_100\",\n",
    "    base = \"b\",\n",
    "    height = \"h\",\n",
    "    limit = 100, \n",
    ")\n",
    "Markdown(variant.question())"
   ]
  },
  {
   "cell_type": "code",
   "execution_count": 33,
   "metadata": {},
   "outputs": [],
   "source": [
    "\"\"\"@TriangleMaxAreacc4e\"\"\"\n",
    "\n",
    "def triangle_max_100(b, h):\n",
    "    \"\"\"Some question\"\"\"\n",
    "    return (b * h) / 2 >= 100"
   ]
  },
  {
   "cell_type": "code",
   "execution_count": 34,
   "metadata": {},
   "outputs": [
    {
     "data": {
      "text/html": [
       "<div style=\"font-size: large; font-weight: bold; margin-bottom: 1em; margin-top: 0.5em\">\n",
       "    \n",
       "        ✅ All tests passed.\n",
       "        \n",
       "</div>\n",
       "<div>\n",
       "    \n",
       "</div>"
      ],
      "text/plain": [
       "<IPython.core.display.HTML object>"
      ]
     },
     "execution_count": 34,
     "metadata": {},
     "output_type": "execute_result"
    }
   ],
   "source": [
    "%%testing variant\n",
    "nbtest_cases = [variant]"
   ]
  },
  {
   "cell_type": "markdown",
   "metadata": {},
   "source": [
    "## A Question with a Function and a Cell Variant\n",
    "\n",
    "This question can be asked in function and cell-based forms."
   ]
  },
  {
   "cell_type": "code",
   "execution_count": 35,
   "metadata": {
    "tags": [
     "question"
    ]
   },
   "outputs": [],
   "source": [
    "import random \n",
    "\n",
    "from nbquiz import  FunctionQuestion\n",
    "\n",
    "class TriangleArea(FunctionQuestion):\n",
    "    \"\"\"\n",
    "    Write a function called `{name}` that takes two arguments, `{base}` and `{height}`. The function returns the area\n",
    "    of a triangle that has the given `{base}` and `{height}`.\n",
    "    \"\"\"\n",
    "\n",
    "    name = \"triangle_area\"\n",
    "    base = \"base\"\n",
    "    height = \"height\"\n",
    "    \n",
    "    annotations = {\"base\": float, \"height\": float, \"return\": float}\n",
    "\n",
    "    def test_1_triangle_area(self):\n",
    "        \"\"\"Testing triangle_area()\"\"\"\n",
    "        b = random.uniform(0, 100)\n",
    "        h = random.uniform(0, 100)\n",
    "        self.assertAlmostEqual(self.solution(b, h), (b * h) / 2)"
   ]
  },
  {
   "cell_type": "code",
   "execution_count": 36,
   "metadata": {},
   "outputs": [
    {
     "data": {
      "text/markdown": [
       "\n",
       "\n",
       "Write a function called `triangle_area` that takes two arguments, `base` and `height`. The function returns the area\n",
       "of a triangle that has the given `base` and `height`.\n",
       "\n",
       "\n",
       "Add the tag `@TriangleArea` to the docstring in your solution cell.\n"
      ],
      "text/plain": [
       "<IPython.core.display.Markdown object>"
      ]
     },
     "execution_count": 36,
     "metadata": {},
     "output_type": "execute_result"
    }
   ],
   "source": [
    "from IPython.display import Markdown\n",
    "Markdown(TriangleArea.question())"
   ]
  },
  {
   "cell_type": "code",
   "execution_count": 37,
   "metadata": {},
   "outputs": [],
   "source": [
    "\"\"\"@TriangleArea\"\"\"\n",
    "\n",
    "from numbers import Number\n",
    "\n",
    "def triangle_area(base: Number, height: Number) -> Number:\n",
    "    \"\"\"The solution\"\"\"\n",
    "    return (base * height) / 2"
   ]
  },
  {
   "cell_type": "code",
   "execution_count": 38,
   "metadata": {},
   "outputs": [
    {
     "data": {
      "text/html": [
       "<div style=\"font-size: large; font-weight: bold; margin-bottom: 1em; margin-top: 0.5em\">\n",
       "    \n",
       "        ✅ All tests passed.\n",
       "        \n",
       "</div>\n",
       "<div>\n",
       "    \n",
       "</div>"
      ],
      "text/plain": [
       "<IPython.core.display.HTML object>"
      ]
     },
     "execution_count": 38,
     "metadata": {},
     "output_type": "execute_result"
    }
   ],
   "source": [
    "%%testing TriangleArea\n",
    "nbtest_cases = [TriangleArea]"
   ]
  },
  {
   "cell_type": "code",
   "execution_count": 39,
   "metadata": {},
   "outputs": [],
   "source": [
    "nbtest.assert_ok()"
   ]
  },
  {
   "cell_type": "markdown",
   "metadata": {},
   "source": [
    "### A Cell Variant \n",
    "\n",
    "A question that inherits from a FunctionQuestion and a CellQuestion can be used to test a cell using the `run()` method of a `CellCacheEntry`.  "
   ]
  },
  {
   "cell_type": "code",
   "execution_count": 40,
   "metadata": {
    "tags": [
     "question"
    ]
   },
   "outputs": [],
   "source": [
    "from nbquiz import CellQuestion\n",
    "\n",
    "class TriangleAreaCell(TriangleArea, CellQuestion):\n",
    "    \"\"\"\n",
    "    Create a cell that defines the variables `{base}` and `{height}`. The cell uses the variables to compute the area of a triangle.\n",
    "    The cell should result in the computation.\n",
    "    \"\"\"\n"
   ]
  },
  {
   "cell_type": "code",
   "execution_count": 41,
   "metadata": {},
   "outputs": [
    {
     "data": {
      "text/markdown": [
       "\n",
       "\n",
       "Create a cell that defines the variables `base` and `height`. The cell uses the variables to compute the area of a triangle.\n",
       "The cell should result in the computation.\n",
       "\n",
       "\n",
       "Add the tag `@TriangleAreaCell` to the docstring in your solution cell.\n"
      ],
      "text/plain": [
       "<IPython.core.display.Markdown object>"
      ]
     },
     "execution_count": 41,
     "metadata": {},
     "output_type": "execute_result"
    }
   ],
   "source": [
    "Markdown(TriangleAreaCell.question())"
   ]
  },
  {
   "cell_type": "code",
   "execution_count": 42,
   "metadata": {},
   "outputs": [
    {
     "data": {
      "text/plain": [
       "10000.0"
      ]
     },
     "execution_count": 42,
     "metadata": {},
     "output_type": "execute_result"
    }
   ],
   "source": [
    "\"\"\"@TriangleAreaCell\"\"\"\n",
    "\n",
    "base = 100\n",
    "height = 200\n",
    "area = (base * height) / 2\n",
    "\n",
    "area"
   ]
  },
  {
   "cell_type": "code",
   "execution_count": 43,
   "metadata": {},
   "outputs": [
    {
     "data": {
      "text/html": [
       "<div style=\"font-size: large; font-weight: bold; margin-bottom: 1em; margin-top: 0.5em\">\n",
       "    \n",
       "        ✅ All tests passed.\n",
       "        \n",
       "</div>\n",
       "<div>\n",
       "    \n",
       "</div>"
      ],
      "text/plain": [
       "<IPython.core.display.HTML object>"
      ]
     },
     "execution_count": 43,
     "metadata": {},
     "output_type": "execute_result"
    }
   ],
   "source": [
    "%%testing TriangleAreaCell\n",
    "nbtest_cases = [TriangleAreaCell]"
   ]
  },
  {
   "cell_type": "code",
   "execution_count": 44,
   "metadata": {},
   "outputs": [],
   "source": [
    "nbtest.assert_ok()"
   ]
  },
  {
   "cell_type": "code",
   "execution_count": 45,
   "metadata": {},
   "outputs": [
    {
     "data": {
      "text/plain": [
       "5000.0"
      ]
     },
     "execution_count": 45,
     "metadata": {},
     "output_type": "execute_result"
    }
   ],
   "source": [
    "\"\"\"@TriangleAreaCell\"\"\"\n",
    "\n",
    "# incorrect calculation \n",
    "\n",
    "base = 100\n",
    "height = 200\n",
    "area = (base * height) / 4\n",
    "\n",
    "area"
   ]
  },
  {
   "cell_type": "code",
   "execution_count": 46,
   "metadata": {},
   "outputs": [
    {
     "data": {
      "text/html": [
       "<div style=\"font-size: large; font-weight: bold; margin-bottom: 1em; margin-top: 0.5em\">\n",
       "    \n",
       "        ⚠️ Attention needed.\n",
       "        \n",
       "</div>\n",
       "<div>\n",
       "    \n",
       "        <div style=\"width: 75%; min-width: 500px; max-width: 800px; padding-left: 50px; padding-bottom: 2rem\">\n",
       "            <div style=\"clear: both;\">\n",
       "                <div style=\"float: left; padding: 0.25em;\">\n",
       "                    \n",
       "                        <span style=\"font-size: x-large; padding: 0.25em; color: red; font-weight: bold;\">❌</span>\n",
       "                    \n",
       "                    <span style=\"font-family: monospace;\">406.56760508824084 != 813.1352101764817 within 7 places (406.56760508824084 difference)</span>\n",
       "                </div>    \n",
       "            </div>\n",
       "            <div style=\"clear: both;\">\n",
       "                <div style=\"float: left; vertical-align: middle; padding-top: 0.25em; padding-bottom: 1em;\">Testing triangle_area()</div>\n",
       "            </div>\n",
       "        </div>\n",
       "    \n",
       "</div>"
      ],
      "text/plain": [
       "<IPython.core.display.HTML object>"
      ]
     },
     "execution_count": 46,
     "metadata": {},
     "output_type": "execute_result"
    }
   ],
   "source": [
    "%%testing TriangleAreaCell\n",
    "nbtest_cases = [TriangleAreaCell]"
   ]
  },
  {
   "cell_type": "code",
   "execution_count": 47,
   "metadata": {},
   "outputs": [],
   "source": [
    "nbtest.assert_error()"
   ]
  }
 ],
 "metadata": {
  "kernelspec": {
   "display_name": "venv-p4e",
   "language": "python",
   "name": "python3"
  },
  "language_info": {
   "codemirror_mode": {
    "name": "ipython",
    "version": 3
   },
   "file_extension": ".py",
   "mimetype": "text/x-python",
   "name": "python",
   "nbconvert_exporter": "python",
   "pygments_lexer": "ipython3",
   "version": "3.12.3"
  }
 },
 "nbformat": 4,
 "nbformat_minor": 2
}
